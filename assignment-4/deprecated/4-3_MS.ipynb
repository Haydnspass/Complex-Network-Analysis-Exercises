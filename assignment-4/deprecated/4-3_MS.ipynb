{
 "cells": [
  {
   "cell_type": "markdown",
   "id": "7f881416",
   "metadata": {},
   "source": [
    "Problem 4-3 \\\n",
    "Assignment 3 \\\n",
    "\\\n",
    "group members:\n",
    "1) Shuhan Xiao (Uni-id: kg410 Matrikelnr.: 3160697), \n",
    "2) Klaus Kades (Uni-id: fw448 Matrikelnr.: 3408463), \n",
    "3) Lucas-Raphael Müller (Uni-id: al413 Matrikelnr.: 3205638), \n",
    "4) Melanie Schellenberg (Uni-id: qh400 Matrikelnr.: 3146390)"
   ]
  },
  {
   "cell_type": "code",
   "execution_count": 3,
   "id": "591379b1",
   "metadata": {},
   "outputs": [
    {
     "name": "stdout",
     "output_type": "stream",
     "text": [
      "Requirement already satisfied: numpy in /workplace/anaconda3/envs/complex_network/lib/python3.9/site-packages (1.21.3)\n",
      "Requirement already satisfied: pandas in /workplace/anaconda3/envs/complex_network/lib/python3.9/site-packages (1.3.4)\n",
      "Requirement already satisfied: networkx in /workplace/anaconda3/envs/complex_network/lib/python3.9/site-packages (2.6.3)\n",
      "Requirement already satisfied: matplotlib in /workplace/anaconda3/envs/complex_network/lib/python3.9/site-packages (3.4.3)\n",
      "Requirement already satisfied: powerlaw in /workplace/anaconda3/envs/complex_network/lib/python3.9/site-packages (1.5)\n",
      "Requirement already satisfied: python-dateutil>=2.7.3 in /workplace/anaconda3/envs/complex_network/lib/python3.9/site-packages (from pandas) (2.8.2)\n",
      "Requirement already satisfied: pytz>=2017.3 in /workplace/anaconda3/envs/complex_network/lib/python3.9/site-packages (from pandas) (2021.3)\n",
      "Requirement already satisfied: cycler>=0.10 in /workplace/anaconda3/envs/complex_network/lib/python3.9/site-packages (from matplotlib) (0.10.0)\n",
      "Requirement already satisfied: pyparsing>=2.2.1 in /workplace/anaconda3/envs/complex_network/lib/python3.9/site-packages (from matplotlib) (3.0.3)\n",
      "Requirement already satisfied: pillow>=6.2.0 in /workplace/anaconda3/envs/complex_network/lib/python3.9/site-packages (from matplotlib) (8.3.2)\n",
      "Requirement already satisfied: kiwisolver>=1.0.1 in /workplace/anaconda3/envs/complex_network/lib/python3.9/site-packages (from matplotlib) (1.3.2)\n",
      "Requirement already satisfied: mpmath in /workplace/anaconda3/envs/complex_network/lib/python3.9/site-packages (from powerlaw) (1.2.1)\n",
      "Requirement already satisfied: scipy in /workplace/anaconda3/envs/complex_network/lib/python3.9/site-packages (from powerlaw) (1.7.1)\n",
      "Requirement already satisfied: six in /workplace/anaconda3/envs/complex_network/lib/python3.9/site-packages (from cycler>=0.10->matplotlib) (1.16.0)\n"
     ]
    }
   ],
   "source": [
    "# Install a pip package in the current Jupyter kernel\n",
    "! pip install numpy pandas networkx matplotlib powerlaw"
   ]
  },
  {
   "cell_type": "code",
   "execution_count": 15,
   "id": "55fc7b75",
   "metadata": {},
   "outputs": [
    {
     "name": "stdout",
     "output_type": "stream",
     "text": [
      "   1  2\n",
      "0  1  3\n",
      "1  1  4\n",
      "2  1  5\n",
      "3  1  6\n",
      "4  1  7\n"
     ]
    }
   ],
   "source": [
    "import pandas as pd\n",
    "import networkx as nx\n",
    "import numpy as np\n",
    "\n",
    "path = '/workplace/CNA/Complex-Network-Analysis-Exercises/assignment-4/facebook-links.txt.anon'\n",
    "data = pd.read_csv(path, delimiter='\\t')\n",
    "data= data[['1', '2']]\n",
    "#remove time stamp\n",
    "print(data.head())"
   ]
  },
  {
   "cell_type": "code",
   "execution_count": 16,
   "id": "6f22f2a7",
   "metadata": {},
   "outputs": [],
   "source": [
    "def generate_plot_graph2(data, plot=True):\n",
    "    g=nx.from_pandas_edgelist(data,source='1', target='2', create_using=nx.DiGraph())\n",
    "    print(len(g.edges))\n",
    "    g=g.to_undirected(reciprocal=False, as_view=False)\n",
    "\n",
    "    #control to not having multiple edges\n",
    "    for node in g.nodes(): \n",
    "        # We look for adjacent nodes\n",
    "        for adj_node in g[node]: \n",
    "            # If our graph has several edges from the first to the adjacent node\n",
    "            if len(g[node][adj_node]) > 1: \n",
    "                print(node, adj_node)\n",
    "\n",
    "    if plot==True:\n",
    "        pos = nx.spring_layout(g, seed=1)\n",
    "        nx.draw_networkx_edges(g, pos=pos)\n",
    "\n",
    "    return g"
   ]
  },
  {
   "cell_type": "code",
   "execution_count": 17,
   "id": "ef4c5cf7",
   "metadata": {},
   "outputs": [
    {
     "name": "stdout",
     "output_type": "stream",
     "text": [
      "1545685\n"
     ]
    }
   ],
   "source": [
    "g = generate_plot_graph2(data, plot=False)"
   ]
  },
  {
   "cell_type": "code",
   "execution_count": 18,
   "id": "76f8b009",
   "metadata": {},
   "outputs": [
    {
     "name": "stdout",
     "output_type": "stream",
     "text": [
      "1. max_diameter 63392\n",
      "2. ID highest degree 2331 with value 1098\n",
      "3. number of triangles is 3501542.0\n",
      "4. average clustering is 0.22099367691190397\n",
      "Calculating best minimal value for power law fit\n",
      "5. power-law exponent is 4.438180320754116\n"
     ]
    },
    {
     "data": {
      "text/plain": [
       "[<matplotlib.lines.Line2D at 0x7f8af34d2c10>]"
      ]
     },
     "execution_count": 18,
     "metadata": {},
     "output_type": "execute_result"
    },
    {
     "data": {
      "image/png": "[encoded data removed]",
      "text/plain": [
       "<Figure size 432x288 with 1 Axes>"
      ]
     },
     "metadata": {
      "needs_background": "light"
     },
     "output_type": "display_data"
    }
   ],
   "source": [
    "import powerlaw\n",
    "\n",
    "max_diameter = len(max(nx.connected_components(g)))\n",
    "\n",
    "print(f'1. max_diameter {max_diameter}')\n",
    "\n",
    "current_max=0\n",
    "current_id=0\n",
    "degrees=[]\n",
    "for id, node in enumerate(g.nodes):\n",
    "    degrees.append(g.degree(node))\n",
    "    if g.degree(node)>current_max:\n",
    "        current_max =g.degree(node)\n",
    "        current_id=id\n",
    "print(f'2. ID highest degree {current_id} with value {current_max}')\n",
    "\n",
    "\n",
    "triangle = nx.triangles(g)\n",
    "amount_triangles=sum(triangle.values())/3\n",
    "print(f'3. number of triangles is {amount_triangles}')\n",
    "\n",
    "average_clustering=nx.average_clustering(g)\n",
    "print(f'4. average clustering is {average_clustering}')\n",
    "\n",
    "\n",
    "fit = powerlaw.Fit(degrees)\n",
    "print(f'5. power-law exponent is {fit.alpha}')\n",
    "fig1=fit.plot_pdf(color='b')\n",
    "fit.power_law.plot_pdf(color='r', ax=fig1)\n",
    "hist, bin_edges = np.histogram(degrees, bins=100, density=True)\n",
    "bin_edges\n",
    "#normalization factor was estiamted \n",
    "factor = 8**2\n",
    "fig1.plot(bin_edges[:-1]+0.5, factor*hist)"
   ]
  }
 ],
 "metadata": {
  "interpreter": {
   "hash": "39a65aaadba0ba422a04f5baa6417f7728c6de8b7f23314dcd8400260ab2cc99"
  },
  "kernelspec": {
   "display_name": "Python 3",
   "language": "python",
   "name": "python3"
  },
  "language_info": {
   "codemirror_mode": {
    "name": "ipython",
    "version": 3
   },
   "file_extension": ".py",
   "mimetype": "text/x-python",
   "name": "python",
   "nbconvert_exporter": "python",
   "pygments_lexer": "ipython3",
   "version": "3.9.4"
  }
 },
 "nbformat": 4,
 "nbformat_minor": 5
}
