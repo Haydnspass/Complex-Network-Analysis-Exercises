{
 "cells": [
  {
   "cell_type": "markdown",
   "metadata": {
    "id": "KBd8ieeGxemB"
   },
   "source": [
    "Names:  \n",
    "1) Klaus Kades (Uni-id: fw448 Matrikelnr.: 3408463)\n",
    "\n",
    "2) Lucas-Raphael Müller (Uni-id: al413 Matrikelnr.: 3205638)\n",
    "\n",
    "3) Melanie Schellenberg (Uni-id: qh400 Matrikelnr.: 3146390)\n",
    "\n",
    "4) Shuhan Xiao (Uni-id: kg410 Matrikelnr.: 3160697)"
   ]
  },
  {
   "cell_type": "code",
   "execution_count": 60,
   "metadata": {
    "colab": {
     "base_uri": "https://localhost:8080/"
    },
    "id": "EHtw3_suxV79",
    "outputId": "8353d61f-39b4-4557-a8c1-d9645c7f9b03"
   },
   "outputs": [
    {
     "name": "stdout",
     "output_type": "stream",
     "text": [
      "Requirement already satisfied: python-igraph in /home/AD/xiao/miniconda3/envs/basenv/lib/python3.8/site-packages (0.9.8)\n",
      "Requirement already satisfied: igraph==0.9.8 in /home/AD/xiao/miniconda3/envs/basenv/lib/python3.8/site-packages (from python-igraph) (0.9.8)\n",
      "Requirement already satisfied: texttable>=1.6.2 in /home/AD/xiao/miniconda3/envs/basenv/lib/python3.8/site-packages (from igraph==0.9.8->python-igraph) (1.6.4)\n"
     ]
    }
   ],
   "source": [
    "import pandas as pd \n",
    "import networkx as nx \n",
    "import matplotlib as mpl \n",
    "import matplotlib.pyplot as plt \n",
    "import numpy as np\n",
    "!pip install python-igraph\n",
    "import igraph as ig\n",
    "from scipy.special import zeta"
   ]
  },
  {
   "cell_type": "markdown",
   "metadata": {
    "id": "2YqtmGrxxxhy"
   },
   "source": [
    "# Assignment 4\n",
    "## Problem 4-1 Power Laws"
   ]
  },
  {
   "cell_type": "code",
   "execution_count": 2,
   "metadata": {
    "id": "N3eOhxP8xvfU"
   },
   "outputs": [],
   "source": [
    "Kmax = 10\n",
    "degrees = [16, 17, 10, 26, 13, 14, 28, 45, 10, 12, 12, 10, 136, 16, 25, 36, 12, 14, 22, 10]\n",
    "n = len(degrees)"
   ]
  },
  {
   "cell_type": "code",
   "execution_count": 3,
   "metadata": {
    "colab": {
     "base_uri": "https://localhost:8080/"
    },
    "id": "Q0NQziymyJUn",
    "outputId": "84080f07-de1f-47a1-df4d-8de6af57d59e"
   },
   "outputs": [
    {
     "name": "stdout",
     "output_type": "stream",
     "text": [
      "estimated exponent 2.5309557576080417\n"
     ]
    }
   ],
   "source": [
    "gamma = 1+n/(sum([np.log(i/(Kmax-1/2)) for i in degrees]))\n",
    "print(f\"estimated exponent {gamma}\")"
   ]
  },
  {
   "cell_type": "code",
   "execution_count": 4,
   "metadata": {
    "colab": {
     "base_uri": "https://localhost:8080/"
    },
    "id": "9WlNyAMXzWGm",
    "outputId": "3d5e8f01-98b4-4f37-87e9-c803fb5670f9"
   },
   "outputs": [
    {
     "name": "stdout",
     "output_type": "stream",
     "text": [
      "error of estimation 0.34233211445562717\n"
     ]
    }
   ],
   "source": [
    "sigma = (gamma - 1)/np.sqrt(n)\n",
    "print(f\"error of estimation {sigma}\")"
   ]
  },
  {
   "cell_type": "markdown",
   "metadata": {
    "id": "nYLuGyOcXRf8"
   },
   "source": [
    "## Problem 4-2\n",
    "3.\n",
    "* average_k = Divide[1,Zeta\\(40)2.3\\(41)]Sum[Power[k,1-2.3],{k,1,1000}]\n",
    "\n",
    "* average_k_of_neighbors = Divide[1,Sum[Power[l,1-2.3],{l,1,1000}]]Sum[Power[k,2-2.3],{k,1,1000}]\n",
    "\n",
    "## Problem 4-3 Network Measures of Real Graphs \n",
    "\n",
    "Load Facebook network of New Orleans."
   ]
  },
  {
   "cell_type": "code",
   "execution_count": 5,
   "metadata": {
    "colab": {
     "base_uri": "https://localhost:8080/"
    },
    "id": "dzTtRRWLXYPL",
    "outputId": "66c7e46c-e49a-4b10-d560-f32f5bb34c30"
   },
   "outputs": [
    {
     "name": "stdout",
     "output_type": "stream",
     "text": [
      "--2021-11-22 19:09:13--  http://socialnetworks.mpi-sws.mpg.de/data/facebook-links.txt.gz\n",
      "Resolving www-int2 (www-int2)... 193.174.53.221, 193.174.53.86\n",
      "Connecting to www-int2 (www-int2)|193.174.53.221|:3128... connected.\n",
      "Proxy request sent, awaiting response... 301 Moved Permanently\n",
      "Location: http://socialnetworks.mpi-sws.org/data/facebook-links.txt.gz [following]\n",
      "--2021-11-22 19:09:13--  http://socialnetworks.mpi-sws.org/data/facebook-links.txt.gz\n",
      "Reusing existing connection to www-int2:3128.\n",
      "Proxy request sent, awaiting response... 200 OK\n",
      "Length: 10429299 (9,9M) [application/x-gzip]\n",
      "Saving to: ‘facebook-links.txt.gz’\n",
      "\n",
      "facebook-links.txt. 100%[===================>]   9,95M  --.-KB/s    in 0,1s    \n",
      "\n",
      "2021-11-22 19:09:14 (69,6 MB/s) - ‘facebook-links.txt.gz’ saved [10429299/10429299]\n",
      "\n"
     ]
    }
   ],
   "source": [
    "!wget http://socialnetworks.mpi-sws.mpg.de/data/facebook-links.txt.gz --no-clobber"
   ]
  },
  {
   "cell_type": "code",
   "execution_count": 6,
   "metadata": {
    "colab": {
     "base_uri": "https://localhost:8080/"
    },
    "id": "MAxCw3P6Ys74",
    "outputId": "81e57341-7078-4391-b451-bfc51b0b0b04"
   },
   "outputs": [
    {
     "name": "stdout",
     "output_type": "stream",
     "text": [
      " Complex-Network-Analysis-Exercises\t\t FAOSTAT_data_11-2-2021.csv\n",
      " Copy_of_Problem_1_4.ipynb\t\t\t Problem_2_3.ipynb\n",
      "'Copy of Problem-1-4.ipynb - Colaboratory.pdf'\t Problem_4_1_4_3.ipynb\n",
      " facebook-links.txt\n"
     ]
    }
   ],
   "source": [
    "!gzip -d *.gz\n",
    "!ls"
   ]
  },
  {
   "cell_type": "code",
   "execution_count": 2,
   "metadata": {
    "colab": {
     "base_uri": "https://localhost:8080/",
     "height": 424
    },
    "id": "VaXU2bp9Y32x",
    "outputId": "38dcf66e-55d7-44c5-d888-39edf4b246cc"
   },
   "outputs": [
    {
     "data": {
      "text/html": [
       "<div>\n",
       "<style scoped>\n",
       "    .dataframe tbody tr th:only-of-type {\n",
       "        vertical-align: middle;\n",
       "    }\n",
       "\n",
       "    .dataframe tbody tr th {\n",
       "        vertical-align: top;\n",
       "    }\n",
       "\n",
       "    .dataframe thead th {\n",
       "        text-align: right;\n",
       "    }\n",
       "</style>\n",
       "<table border=\"1\" class=\"dataframe\">\n",
       "  <thead>\n",
       "    <tr style=\"text-align: right;\">\n",
       "      <th></th>\n",
       "      <th>source</th>\n",
       "      <th>target</th>\n",
       "      <th>time-stamp</th>\n",
       "    </tr>\n",
       "  </thead>\n",
       "  <tbody>\n",
       "    <tr>\n",
       "      <th>0</th>\n",
       "      <td>1</td>\n",
       "      <td>2</td>\n",
       "      <td>\\N</td>\n",
       "    </tr>\n",
       "    <tr>\n",
       "      <th>1</th>\n",
       "      <td>1</td>\n",
       "      <td>3</td>\n",
       "      <td>\\N</td>\n",
       "    </tr>\n",
       "    <tr>\n",
       "      <th>2</th>\n",
       "      <td>1</td>\n",
       "      <td>4</td>\n",
       "      <td>\\N</td>\n",
       "    </tr>\n",
       "    <tr>\n",
       "      <th>3</th>\n",
       "      <td>1</td>\n",
       "      <td>5</td>\n",
       "      <td>\\N</td>\n",
       "    </tr>\n",
       "    <tr>\n",
       "      <th>4</th>\n",
       "      <td>1</td>\n",
       "      <td>6</td>\n",
       "      <td>\\N</td>\n",
       "    </tr>\n",
       "    <tr>\n",
       "      <th>...</th>\n",
       "      <td>...</td>\n",
       "      <td>...</td>\n",
       "      <td>...</td>\n",
       "    </tr>\n",
       "    <tr>\n",
       "      <th>1545681</th>\n",
       "      <td>21169</td>\n",
       "      <td>12888</td>\n",
       "      <td>1201988286</td>\n",
       "    </tr>\n",
       "    <tr>\n",
       "      <th>1545682</th>\n",
       "      <td>21169</td>\n",
       "      <td>18660</td>\n",
       "      <td>1214804215</td>\n",
       "    </tr>\n",
       "    <tr>\n",
       "      <th>1545683</th>\n",
       "      <td>48809</td>\n",
       "      <td>24065</td>\n",
       "      <td>1210066726</td>\n",
       "    </tr>\n",
       "    <tr>\n",
       "      <th>1545684</th>\n",
       "      <td>48809</td>\n",
       "      <td>29258</td>\n",
       "      <td>1206011811</td>\n",
       "    </tr>\n",
       "    <tr>\n",
       "      <th>1545685</th>\n",
       "      <td>55904</td>\n",
       "      <td>11088</td>\n",
       "      <td>\\N</td>\n",
       "    </tr>\n",
       "  </tbody>\n",
       "</table>\n",
       "<p>1545686 rows × 3 columns</p>\n",
       "</div>"
      ],
      "text/plain": [
       "         source  target  time-stamp\n",
       "0             1       2          \\N\n",
       "1             1       3          \\N\n",
       "2             1       4          \\N\n",
       "3             1       5          \\N\n",
       "4             1       6          \\N\n",
       "...         ...     ...         ...\n",
       "1545681   21169   12888  1201988286\n",
       "1545682   21169   18660  1214804215\n",
       "1545683   48809   24065  1210066726\n",
       "1545684   48809   29258  1206011811\n",
       "1545685   55904   11088          \\N\n",
       "\n",
       "[1545686 rows x 3 columns]"
      ]
     },
     "metadata": {},
     "output_type": "display_data"
    }
   ],
   "source": [
    "data = pd.read_csv('./facebook-links.txt', sep='\\t', index_col=None, names=['source','target','time-stamp'])\n",
    "\n",
    "display(data)"
   ]
  },
  {
   "cell_type": "markdown",
   "metadata": {
    "id": "O4AdAVMCaLEL"
   },
   "source": [
    "### Cleaning data"
   ]
  },
  {
   "cell_type": "code",
   "execution_count": 3,
   "metadata": {
    "colab": {
     "base_uri": "https://localhost:8080/",
     "height": 206
    },
    "id": "rYwp-88GaKZd",
    "outputId": "56995d28-e26e-4108-87a7-a2d7efbe9c77"
   },
   "outputs": [
    {
     "data": {
      "text/html": [
       "<div>\n",
       "<style scoped>\n",
       "    .dataframe tbody tr th:only-of-type {\n",
       "        vertical-align: middle;\n",
       "    }\n",
       "\n",
       "    .dataframe tbody tr th {\n",
       "        vertical-align: top;\n",
       "    }\n",
       "\n",
       "    .dataframe thead th {\n",
       "        text-align: right;\n",
       "    }\n",
       "</style>\n",
       "<table border=\"1\" class=\"dataframe\">\n",
       "  <thead>\n",
       "    <tr style=\"text-align: right;\">\n",
       "      <th></th>\n",
       "      <th>source</th>\n",
       "      <th>target</th>\n",
       "    </tr>\n",
       "  </thead>\n",
       "  <tbody>\n",
       "    <tr>\n",
       "      <th>0</th>\n",
       "      <td>1</td>\n",
       "      <td>2</td>\n",
       "    </tr>\n",
       "    <tr>\n",
       "      <th>1</th>\n",
       "      <td>1</td>\n",
       "      <td>3</td>\n",
       "    </tr>\n",
       "    <tr>\n",
       "      <th>2</th>\n",
       "      <td>1</td>\n",
       "      <td>4</td>\n",
       "    </tr>\n",
       "    <tr>\n",
       "      <th>3</th>\n",
       "      <td>1</td>\n",
       "      <td>5</td>\n",
       "    </tr>\n",
       "    <tr>\n",
       "      <th>4</th>\n",
       "      <td>1</td>\n",
       "      <td>6</td>\n",
       "    </tr>\n",
       "  </tbody>\n",
       "</table>\n",
       "</div>"
      ],
      "text/plain": [
       "   source  target\n",
       "0       1       2\n",
       "1       1       3\n",
       "2       1       4\n",
       "3       1       5\n",
       "4       1       6"
      ]
     },
     "metadata": {},
     "output_type": "display_data"
    }
   ],
   "source": [
    "# remove time-stamp column\n",
    "data = data.drop(columns=['time-stamp'])\n",
    "display(data.head())"
   ]
  },
  {
   "cell_type": "code",
   "execution_count": 4,
   "metadata": {
    "colab": {
     "base_uri": "https://localhost:8080/",
     "height": 424
    },
    "id": "2vxHv14Ua3x5",
    "outputId": "c2b33848-ba78-4045-e950-26641b1a1c51"
   },
   "outputs": [
    {
     "data": {
      "text/html": [
       "<div>\n",
       "<style scoped>\n",
       "    .dataframe tbody tr th:only-of-type {\n",
       "        vertical-align: middle;\n",
       "    }\n",
       "\n",
       "    .dataframe tbody tr th {\n",
       "        vertical-align: top;\n",
       "    }\n",
       "\n",
       "    .dataframe thead th {\n",
       "        text-align: right;\n",
       "    }\n",
       "</style>\n",
       "<table border=\"1\" class=\"dataframe\">\n",
       "  <thead>\n",
       "    <tr style=\"text-align: right;\">\n",
       "      <th></th>\n",
       "      <th>source</th>\n",
       "      <th>target</th>\n",
       "    </tr>\n",
       "  </thead>\n",
       "  <tbody>\n",
       "    <tr>\n",
       "      <th>0</th>\n",
       "      <td>1</td>\n",
       "      <td>2</td>\n",
       "    </tr>\n",
       "    <tr>\n",
       "      <th>1</th>\n",
       "      <td>1</td>\n",
       "      <td>3</td>\n",
       "    </tr>\n",
       "    <tr>\n",
       "      <th>2</th>\n",
       "      <td>1</td>\n",
       "      <td>4</td>\n",
       "    </tr>\n",
       "    <tr>\n",
       "      <th>3</th>\n",
       "      <td>1</td>\n",
       "      <td>5</td>\n",
       "    </tr>\n",
       "    <tr>\n",
       "      <th>4</th>\n",
       "      <td>1</td>\n",
       "      <td>6</td>\n",
       "    </tr>\n",
       "    <tr>\n",
       "      <th>...</th>\n",
       "      <td>...</td>\n",
       "      <td>...</td>\n",
       "    </tr>\n",
       "    <tr>\n",
       "      <th>1545681</th>\n",
       "      <td>21169</td>\n",
       "      <td>12888</td>\n",
       "    </tr>\n",
       "    <tr>\n",
       "      <th>1545682</th>\n",
       "      <td>21169</td>\n",
       "      <td>18660</td>\n",
       "    </tr>\n",
       "    <tr>\n",
       "      <th>1545683</th>\n",
       "      <td>48809</td>\n",
       "      <td>24065</td>\n",
       "    </tr>\n",
       "    <tr>\n",
       "      <th>1545684</th>\n",
       "      <td>48809</td>\n",
       "      <td>29258</td>\n",
       "    </tr>\n",
       "    <tr>\n",
       "      <th>1545685</th>\n",
       "      <td>55904</td>\n",
       "      <td>11088</td>\n",
       "    </tr>\n",
       "  </tbody>\n",
       "</table>\n",
       "<p>1545686 rows × 2 columns</p>\n",
       "</div>"
      ],
      "text/plain": [
       "         source  target\n",
       "0             1       2\n",
       "1             1       3\n",
       "2             1       4\n",
       "3             1       5\n",
       "4             1       6\n",
       "...         ...     ...\n",
       "1545681   21169   12888\n",
       "1545682   21169   18660\n",
       "1545683   48809   24065\n",
       "1545684   48809   29258\n",
       "1545685   55904   11088\n",
       "\n",
       "[1545686 rows x 2 columns]"
      ]
     },
     "metadata": {},
     "output_type": "display_data"
    }
   ],
   "source": [
    "# remove parallel edges by removing duplicate rows\n",
    "display(data)\n",
    "data = data.drop_duplicates(keep='first')\n"
   ]
  },
  {
   "cell_type": "code",
   "execution_count": 5,
   "metadata": {
    "colab": {
     "base_uri": "https://localhost:8080/",
     "height": 424
    },
    "id": "vgxKqsSsv05c",
    "outputId": "86103ec4-2848-4520-8296-6460b1b15a24"
   },
   "outputs": [
    {
     "data": {
      "text/html": [
       "<div>\n",
       "<style scoped>\n",
       "    .dataframe tbody tr th:only-of-type {\n",
       "        vertical-align: middle;\n",
       "    }\n",
       "\n",
       "    .dataframe tbody tr th {\n",
       "        vertical-align: top;\n",
       "    }\n",
       "\n",
       "    .dataframe thead th {\n",
       "        text-align: right;\n",
       "    }\n",
       "</style>\n",
       "<table border=\"1\" class=\"dataframe\">\n",
       "  <thead>\n",
       "    <tr style=\"text-align: right;\">\n",
       "      <th></th>\n",
       "      <th>source</th>\n",
       "      <th>target</th>\n",
       "      <th>edge</th>\n",
       "    </tr>\n",
       "  </thead>\n",
       "  <tbody>\n",
       "    <tr>\n",
       "      <th>0</th>\n",
       "      <td>1</td>\n",
       "      <td>2</td>\n",
       "      <td>(1, 2)</td>\n",
       "    </tr>\n",
       "    <tr>\n",
       "      <th>1</th>\n",
       "      <td>1</td>\n",
       "      <td>3</td>\n",
       "      <td>(1, 3)</td>\n",
       "    </tr>\n",
       "    <tr>\n",
       "      <th>2</th>\n",
       "      <td>1</td>\n",
       "      <td>4</td>\n",
       "      <td>(1, 4)</td>\n",
       "    </tr>\n",
       "    <tr>\n",
       "      <th>3</th>\n",
       "      <td>1</td>\n",
       "      <td>5</td>\n",
       "      <td>(1, 5)</td>\n",
       "    </tr>\n",
       "    <tr>\n",
       "      <th>4</th>\n",
       "      <td>1</td>\n",
       "      <td>6</td>\n",
       "      <td>(1, 6)</td>\n",
       "    </tr>\n",
       "    <tr>\n",
       "      <th>...</th>\n",
       "      <td>...</td>\n",
       "      <td>...</td>\n",
       "      <td>...</td>\n",
       "    </tr>\n",
       "    <tr>\n",
       "      <th>1545556</th>\n",
       "      <td>31971</td>\n",
       "      <td>13390</td>\n",
       "      <td>(13390, 31971)</td>\n",
       "    </tr>\n",
       "    <tr>\n",
       "      <th>1545643</th>\n",
       "      <td>18751</td>\n",
       "      <td>19389</td>\n",
       "      <td>(18751, 19389)</td>\n",
       "    </tr>\n",
       "    <tr>\n",
       "      <th>1545650</th>\n",
       "      <td>18751</td>\n",
       "      <td>27762</td>\n",
       "      <td>(18751, 27762)</td>\n",
       "    </tr>\n",
       "    <tr>\n",
       "      <th>1545654</th>\n",
       "      <td>18751</td>\n",
       "      <td>17546</td>\n",
       "      <td>(17546, 18751)</td>\n",
       "    </tr>\n",
       "    <tr>\n",
       "      <th>1545668</th>\n",
       "      <td>27325</td>\n",
       "      <td>49528</td>\n",
       "      <td>(27325, 49528)</td>\n",
       "    </tr>\n",
       "  </tbody>\n",
       "</table>\n",
       "<p>817090 rows × 3 columns</p>\n",
       "</div>"
      ],
      "text/plain": [
       "         source  target            edge\n",
       "0             1       2          (1, 2)\n",
       "1             1       3          (1, 3)\n",
       "2             1       4          (1, 4)\n",
       "3             1       5          (1, 5)\n",
       "4             1       6          (1, 6)\n",
       "...         ...     ...             ...\n",
       "1545556   31971   13390  (13390, 31971)\n",
       "1545643   18751   19389  (18751, 19389)\n",
       "1545650   18751   27762  (18751, 27762)\n",
       "1545654   18751   17546  (17546, 18751)\n",
       "1545668   27325   49528  (27325, 49528)\n",
       "\n",
       "[817090 rows x 3 columns]"
      ]
     },
     "metadata": {},
     "output_type": "display_data"
    }
   ],
   "source": [
    "data['edge'] = data.apply(lambda y: tuple(sorted((y.source, y.target))), axis=1)\n",
    "data = data.drop_duplicates('edge',keep='first')\n",
    "display(data)"
   ]
  },
  {
   "cell_type": "code",
   "execution_count": 11,
   "metadata": {
    "colab": {
     "base_uri": "https://localhost:8080/"
    },
    "id": "4DohDlBxeH4V",
    "outputId": "8f3aee15-ce28-4656-bfcd-5261ff92c4e3"
   },
   "outputs": [
    {
     "name": "stdout",
     "output_type": "stream",
     "text": [
      "Graph with 63731 nodes and 817090 edges\n"
     ]
    }
   ],
   "source": [
    "G = nx.from_pandas_edgelist(data, source='source',target='target')\n",
    "print(nx.info(G))\n",
    "\n",
    "# convert to undirected graph\n",
    "G = G.to_undirected()"
   ]
  },
  {
   "cell_type": "markdown",
   "metadata": {
    "id": "CQ87Bns4fph6"
   },
   "source": [
    "### 1. diameter of the largest component"
   ]
  },
  {
   "cell_type": "code",
   "execution_count": 15,
   "metadata": {
    "colab": {
     "base_uri": "https://localhost:8080/",
     "height": 330
    },
    "id": "0_94zhMofbQ8",
    "outputId": "f4107c0f-1d55-4fd1-f82a-fc9ed3bd39e3"
   },
   "outputs": [],
   "source": [
    "largest_cc = max(nx.connected_components(G), key=len)\n",
    "G0 = G.subgraph(largest_cc)"
   ]
  },
  {
   "cell_type": "code",
   "execution_count": 16,
   "metadata": {
    "id": "m7sysAsAkOtT"
   },
   "outputs": [],
   "source": [
    "#convert to igraph\n",
    "H0 = ig.Graph.from_networkx(G0)"
   ]
  },
  {
   "cell_type": "code",
   "execution_count": 17,
   "metadata": {
    "id": "iB1JG63fzX7b"
   },
   "outputs": [
    {
     "name": "stdout",
     "output_type": "stream",
     "text": [
      "Graph with 63392 nodes and 816886 edges\n"
     ]
    }
   ],
   "source": [
    "print(G0)"
   ]
  },
  {
   "cell_type": "code",
   "execution_count": 18,
   "metadata": {
    "id": "dZI3ImMOtO_1"
   },
   "outputs": [
    {
     "name": "stdout",
     "output_type": "stream",
     "text": [
      "15\n"
     ]
    }
   ],
   "source": [
    "print(H0.diameter())"
   ]
  },
  {
   "cell_type": "code",
   "execution_count": 6,
   "metadata": {
    "id": "NCOXU2-M0amj"
   },
   "outputs": [],
   "source": [
    "H = ig.Graph.TupleList(data[[\"source\",\"target\"]].itertuples(index=False),\n",
    "                           directed=False)"
   ]
  },
  {
   "cell_type": "code",
   "execution_count": 7,
   "metadata": {},
   "outputs": [
    {
     "data": {
      "text/plain": [
       "'IGRAPH UN-- 63731 817090 -- \\n+ attr: name (v)'"
      ]
     },
     "execution_count": 7,
     "metadata": {},
     "output_type": "execute_result"
    }
   ],
   "source": [
    "H.summary()"
   ]
  },
  {
   "cell_type": "code",
   "execution_count": 8,
   "metadata": {
    "id": "HKI6WlQp0rIB"
   },
   "outputs": [
    {
     "data": {
      "text/plain": [
       "15"
      ]
     },
     "execution_count": 8,
     "metadata": {},
     "output_type": "execute_result"
    }
   ],
   "source": [
    "H.diameter()"
   ]
  },
  {
   "cell_type": "markdown",
   "metadata": {
    "id": "wp4QpND9f5CX"
   },
   "source": [
    "### 2. ID of node with the highest degree"
   ]
  },
  {
   "cell_type": "code",
   "execution_count": null,
   "metadata": {},
   "outputs": [
    {
     "name": "stdout",
     "output_type": "stream",
     "text": [
      "max degree: 1098, id: 2332\n",
      "1098\n"
     ]
    }
   ],
   "source": [
    "ids = [i[0] for i in G.degree()]\n",
    "degrees = [i[1] for i in G.degree()]\n",
    "\n",
    "print(f\"max degree: {max(degrees)}, id: {ids[np.argmax(degrees)]}\")\n",
    "print(G.degree(2332))"
   ]
  },
  {
   "cell_type": "markdown",
   "metadata": {
    "id": "Hzn6EM3bjX92"
   },
   "source": [
    "### 3. number of triangles"
   ]
  },
  {
   "cell_type": "code",
   "execution_count": 54,
   "metadata": {
    "id": "O3fN35hCjWHW"
   },
   "outputs": [],
   "source": [
    "n_triangles = len(nx.triangles(G))\n",
    "#divide by three as each triangle is counted three times"
   ]
  },
  {
   "cell_type": "code",
   "execution_count": 55,
   "metadata": {},
   "outputs": [
    {
     "name": "stdout",
     "output_type": "stream",
     "text": [
      "63731\n"
     ]
    }
   ],
   "source": [
    "print(n_triangles)"
   ]
  },
  {
   "cell_type": "markdown",
   "metadata": {
    "id": "EAmm7_pljoZn"
   },
   "source": [
    "### 4. global or average local clustering coefficient"
   ]
  },
  {
   "cell_type": "code",
   "execution_count": 56,
   "metadata": {},
   "outputs": [
    {
     "name": "stdout",
     "output_type": "stream",
     "text": [
      "0.22099367691190397\n"
     ]
    }
   ],
   "source": [
    "c = nx.average_clustering(G)\n",
    "print(c)"
   ]
  },
  {
   "cell_type": "markdown",
   "metadata": {
    "id": "HFha3iskjxgz"
   },
   "source": [
    "### 5. power-law exponent"
   ]
  },
  {
   "cell_type": "code",
   "execution_count": 307,
   "metadata": {},
   "outputs": [
    {
     "name": "stdout",
     "output_type": "stream",
     "text": [
      "63731\n"
     ]
    }
   ],
   "source": [
    "N = G.number_of_nodes()\n",
    "print(N)"
   ]
  },
  {
   "cell_type": "code",
   "execution_count": 385,
   "metadata": {},
   "outputs": [
    {
     "data": {
      "text/plain": [
       "Text(0, 0.5, 'Frequency')"
      ]
     },
     "execution_count": 385,
     "metadata": {},
     "output_type": "execute_result"
    },
    {
     "data": {
      "image/png": "[encoded data removed]",
      "text/plain": [
       "<Figure size 864x576 with 1 Axes>"
      ]
     },
     "metadata": {
      "needs_background": "light"
     },
     "output_type": "display_data"
    }
   ],
   "source": [
    "degree_freq = nx.degree_histogram(G)\n",
    "\n",
    "deg = range(len(degree_freq))\n",
    "plt.figure(figsize=(12, 8)) \n",
    "plt.loglog(deg, np.array(degree_freq)/N,'go') \n",
    "#plt.loglog(np.arange(min(degrees),max(degrees))**(-1.5)/zeta(1.5,2))\n",
    "plt.xlabel('Degree')\n",
    "plt.ylabel('Frequency')"
   ]
  },
  {
   "cell_type": "code",
   "execution_count": 362,
   "metadata": {},
   "outputs": [
    {
     "data": {
      "text/plain": [
       "Text(0.5, 1.0, 'Cumulative Degree Distribution')"
      ]
     },
     "execution_count": 362,
     "metadata": {},
     "output_type": "execute_result"
    },
    {
     "data": {
      "image/png": "[encoded data removed]",
      "text/plain": [
       "<Figure size 864x576 with 1 Axes>"
      ]
     },
     "metadata": {
      "needs_background": "light"
     },
     "output_type": "display_data"
    }
   ],
   "source": [
    "cum_degree_freq = np.cumsum(degree_freq[::-1])[::-1]/N\n",
    "plt.figure(figsize=(12, 8))  \n",
    "plt.loglog(deg, cum_degree_freq,'go-')  \n",
    "plt.xlabel('Degree k') \n",
    "plt.ylabel('$P(k \\geq k_x)$') \n",
    "plt.title(\"Cumulative Degree Distribution\")\n",
    "\n"
   ]
  },
  {
   "cell_type": "code",
   "execution_count": 136,
   "metadata": {},
   "outputs": [
    {
     "data": {
      "text/plain": [
       "1098"
      ]
     },
     "execution_count": 136,
     "metadata": {},
     "output_type": "execute_result"
    }
   ],
   "source": [
    "max(degrees)"
   ]
  },
  {
   "cell_type": "code",
   "execution_count": 131,
   "metadata": {},
   "outputs": [
    {
     "data": {
      "text/plain": [
       "Text(0, 0.5, 'freq')"
      ]
     },
     "execution_count": 131,
     "metadata": {},
     "output_type": "execute_result"
    },
    {
     "data": {
      "image/png": "[encoded data removed]",
      "text/plain": [
       "<Figure size 864x576 with 1 Axes>"
      ]
     },
     "metadata": {
      "needs_background": "light"
     },
     "output_type": "display_data"
    }
   ],
   "source": [
    "c = 2\n",
    "max_bin = int(np.log(max(degrees))/np.log(c))\n",
    "plt.figure(figsize=(12, 8))\n",
    "plt.hist(degrees, bins=[c**(n) for n in range(max_bin)])\n",
    "plt.xscale('log')    \n",
    "plt.yscale('log') \n",
    "plt.xlabel('degree k')\n",
    "plt.ylabel('freq')"
   ]
  },
  {
   "cell_type": "code",
   "execution_count": 475,
   "metadata": {},
   "outputs": [],
   "source": [
    "gammas = []\n",
    "D = []\n",
    "kmax = 1000\n",
    "deg = np.arange(len(degree_freq))\n",
    "degrees = np.array(degrees)\n",
    "for kmin in range(min(degrees),kmax):\n",
    "    n = np.sum(degrees>kmin)\n",
    "    gamma = 1 + n/np.sum(np.log(degrees[degrees>kmin]/(kmin-1/2)))\n",
    "    gammas.append(gamma)\n",
    "    # Kolmogorov-Smirnov Test\n",
    "    Sk = cum_degree_freq[kmin:]/N\n",
    "    Pk = np.array(1-zeta(gamma,deg[kmin:])/zeta(gamma,kmin))\n",
    "    D.append(np.max(np.abs(Sk-Pk)))"
   ]
  },
  {
   "cell_type": "code",
   "execution_count": 476,
   "metadata": {},
   "outputs": [
    {
     "data": {
      "text/plain": [
       "Text(0, 0.5, 'D')"
      ]
     },
     "execution_count": 476,
     "metadata": {},
     "output_type": "execute_result"
    },
    {
     "data": {
      "image/png": "[encoded data removed]",
      "text/plain": [
       "<Figure size 864x576 with 1 Axes>"
      ]
     },
     "metadata": {
      "needs_background": "light"
     },
     "output_type": "display_data"
    }
   ],
   "source": [
    "plt.figure(figsize=(12,8))\n",
    "plt.plot(np.arange(min(degrees),kmax),D,\"o\")\n",
    "plt.yscale('log')\n",
    "plt.xlabel(\"$K_{min}$\")\n",
    "plt.ylabel(\"D\")\n"
   ]
  },
  {
   "cell_type": "code",
   "execution_count": 478,
   "metadata": {},
   "outputs": [
    {
     "name": "stdout",
     "output_type": "stream",
     "text": [
      "1\n",
      "1.299489881008809\n"
     ]
    }
   ],
   "source": [
    "idx_min = 0\n",
    "idx_max = 500\n",
    "krange = np.arange(min(degrees),kmax)[idx_min:idx_max]\n",
    "kmin = krange[np.argmin(D[idx_min:idx_max])]\n",
    "print(kmin)\n",
    "n = np.sum(degrees>kmin)\n",
    "gamma = 1 + n/np.sum(np.log(degrees[degrees>kmin]/(kmin-1/2)))\n",
    "print(gamma)"
   ]
  },
  {
   "cell_type": "code",
   "execution_count": 447,
   "metadata": {},
   "outputs": [],
   "source": [
    "gamma = 2.2\n",
    "kmin = 10"
   ]
  },
  {
   "cell_type": "markdown",
   "metadata": {},
   "source": [
    "kmin = 2???"
   ]
  },
  {
   "cell_type": "code",
   "execution_count": 402,
   "metadata": {},
   "outputs": [
    {
     "data": {
      "text/plain": [
       "0.9999999999999999"
      ]
     },
     "execution_count": 403,
     "metadata": {},
     "output_type": "execute_result"
    }
   ],
   "source": [
    "np.sum(degree_freq/N)"
   ]
  },
  {
   "cell_type": "code",
   "execution_count": 302,
   "metadata": {},
   "outputs": [
    {
     "data": {
      "text/plain": [
       "1.525154602434773"
      ]
     },
     "execution_count": 302,
     "metadata": {},
     "output_type": "execute_result"
    }
   ],
   "source": [
    "gammas[1]"
   ]
  },
  {
   "cell_type": "markdown",
   "metadata": {
    "id": "-khXQ1jCj1iy"
   },
   "source": [
    "### 6. Plot Original Degree distribution"
   ]
  },
  {
   "cell_type": "code",
   "execution_count": 482,
   "metadata": {},
   "outputs": [
    {
     "name": "stdout",
     "output_type": "stream",
     "text": [
      "1\n",
      "1.299489881008809\n"
     ]
    },
    {
     "data": {
      "text/plain": [
       "Text(0, 0.5, 'Frequency')"
      ]
     },
     "execution_count": 482,
     "metadata": {},
     "output_type": "execute_result"
    },
    {
     "data": {
      "image/png": "[encoded data removed]",
      "text/plain": [
       "<Figure size 864x576 with 1 Axes>"
      ]
     },
     "metadata": {
      "needs_background": "light"
     },
     "output_type": "display_data"
    }
   ],
   "source": [
    "idx_min = 0\n",
    "idx_max = 100\n",
    "krange = np.arange(min(degrees),kmax)[idx_min:idx_max]\n",
    "kmin = krange[np.argmin(D[idx_min:idx_max])]\n",
    "print(kmin)\n",
    "n = np.sum(degrees>kmin)\n",
    "gamma = 1 + n/np.sum(np.log(degrees[degrees>kmin]/(kmin-1/2)))\n",
    "print(gamma)\n",
    "plt.figure(figsize=(12, 8)) \n",
    "plt.loglog(deg, np.array(degree_freq)/N,'go') \n",
    "plt.loglog((np.arange(min(degrees),max(degrees))**(-gamma))/zeta(gamma,kmin))\n",
    "plt.xlabel('Degree')\n",
    "plt.ylabel('Frequency')"
   ]
  },
  {
   "cell_type": "code",
   "execution_count": 489,
   "metadata": {},
   "outputs": [
    {
     "name": "stdout",
     "output_type": "stream",
     "text": [
      "373\n",
      "3.8462506216893666\n"
     ]
    },
    {
     "data": {
      "text/plain": [
       "Text(0, 0.5, 'Frequency')"
      ]
     },
     "execution_count": 489,
     "metadata": {},
     "output_type": "execute_result"
    },
    {
     "data": {
      "image/png": "[encoded data removed]",
      "text/plain": [
       "<Figure size 864x576 with 1 Axes>"
      ]
     },
     "metadata": {
      "needs_background": "light"
     },
     "output_type": "display_data"
    }
   ],
   "source": [
    "idx_min = 10\n",
    "idx_max = 400\n",
    "krange = np.arange(min(degrees),kmax)[idx_min:idx_max]\n",
    "kmin = krange[np.argmin(D[idx_min:idx_max])]\n",
    "print(kmin)\n",
    "n = np.sum(degrees>kmin)\n",
    "gamma = 1 + n/np.sum(np.log(degrees[degrees>kmin]/(kmin-1/2)))\n",
    "print(gamma)\n",
    "plt.figure(figsize=(12, 8)) \n",
    "plt.loglog(deg, np.array(degree_freq)/N,'go') \n",
    "plt.loglog((np.arange(min(degrees),max(degrees))**(-gamma))/(zeta(gamma,kmin)))\n",
    "plt.xlabel('Degree')\n",
    "plt.ylabel('Frequency')"
   ]
  },
  {
   "cell_type": "code",
   "execution_count": 491,
   "metadata": {},
   "outputs": [
    {
     "name": "stdout",
     "output_type": "stream",
     "text": [
      "797\n",
      "5.846491258806066\n"
     ]
    },
    {
     "data": {
      "text/plain": [
       "Text(0, 0.5, 'Frequency')"
      ]
     },
     "execution_count": 491,
     "metadata": {},
     "output_type": "execute_result"
    },
    {
     "data": {
      "image/png": "[encoded data removed]",
      "text/plain": [
       "<Figure size 864x576 with 1 Axes>"
      ]
     },
     "metadata": {
      "needs_background": "light"
     },
     "output_type": "display_data"
    }
   ],
   "source": [
    "idx_min = 400\n",
    "idx_max = 800\n",
    "krange = np.arange(min(degrees),kmax)[idx_min:idx_max]\n",
    "kmin = krange[np.argmin(D[idx_min:idx_max])]\n",
    "print(kmin)\n",
    "n = np.sum(degrees>kmin)\n",
    "gamma = 1 + n/np.sum(np.log(degrees[degrees>kmin]/(kmin-1/2)))\n",
    "print(gamma)\n",
    "plt.figure(figsize=(12, 8)) \n",
    "plt.loglog(deg, np.array(degree_freq)/N,'go') \n",
    "plt.loglog((np.arange(min(degrees),max(degrees))**(-gamma))/(zeta(gamma,kmin)))\n",
    "plt.xlabel('Degree')\n",
    "plt.ylabel('Frequency')"
   ]
  }
 ],
 "metadata": {
  "colab": {
   "collapsed_sections": [],
   "name": "Problem_4-1_4-3.ipynb",
   "provenance": []
  },
  "kernelspec": {
   "display_name": "Python 3 (ipykernel)",
   "language": "python",
   "name": "python3"
  },
  "language_info": {
   "codemirror_mode": {
    "name": "ipython",
    "version": 3
   },
   "file_extension": ".py",
   "mimetype": "text/x-python",
   "name": "python",
   "nbconvert_exporter": "python",
   "pygments_lexer": "ipython3",
   "version": "3.8.12"
  }
 },
 "nbformat": 4,
 "nbformat_minor": 4
}
