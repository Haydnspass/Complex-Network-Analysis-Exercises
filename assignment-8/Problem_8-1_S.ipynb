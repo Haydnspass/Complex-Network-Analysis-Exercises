{
 "cells": [
  {
   "cell_type": "markdown",
   "metadata": {
    "id": "Or9GBdbhUNjv"
   },
   "source": [
    "Names:\n",
    "1) Klaus Kades (Uni-id: fw448 Matrikelnr.: 3408463)\n",
    "\n",
    "2) Lucas-Raphael Müller (Uni-id: al413 Matrikelnr.: 3205638)\n",
    "\n",
    "3) Melanie Schellenberg (Uni-id: qh400 Matrikelnr.: 3146390)\n",
    "\n",
    "4) Shuhan Xiao (Uni-id: kg410 Matrikelnr.: 3160697)\n"
   ]
  },
  {
   "cell_type": "code",
   "execution_count": 33,
   "metadata": {
    "id": "V0JeZrE-UEOH"
   },
   "outputs": [],
   "source": [
    "import pandas as pd \n",
    "import networkx as nx \n",
    "import matplotlib as mpl \n",
    "import matplotlib.pyplot as plt \n",
    "import numpy as np\n",
    "from collections import Counter\n",
    "import random"
   ]
  },
  {
   "cell_type": "markdown",
   "metadata": {
    "id": "jcT9vgC9UUlb"
   },
   "source": [
    "# Assignment 8\n",
    "## Problem 8-1 European Power Grid "
   ]
  },
  {
   "cell_type": "code",
   "execution_count": 3,
   "metadata": {
    "colab": {
     "base_uri": "https://localhost:8080/"
    },
    "id": "ZK-iY9UmUUAN",
    "outputId": "c1d7c175-acb6-4234-a0df-de7aa77b8eec"
   },
   "outputs": [
    {
     "name": "stdout",
     "output_type": "stream",
     "text": [
      "--2022-01-16 19:17:44--  https://zenodo.org/record/47317/files/gridkit_euorpe.zip\n",
      "Resolving zenodo.org (zenodo.org)... 137.138.76.77\n",
      "Connecting to zenodo.org (zenodo.org)|137.138.76.77|:443... connected.\n",
      "HTTP request sent, awaiting response... 200 OK\n",
      "Length: 1805506 (1.7M) [application/octet-stream]\n",
      "Saving to: ‘gridkit_euorpe.zip’\n",
      "\n",
      "gridkit_euorpe.zip  100%[===================>]   1.72M  2.48MB/s    in 0.7s    \n",
      "\n",
      "2022-01-16 19:17:46 (2.48 MB/s) - ‘gridkit_euorpe.zip’ saved [1805506/1805506]\n",
      "\n"
     ]
    }
   ],
   "source": [
    "!wget https://zenodo.org/record/47317/files/gridkit_euorpe.zip --no-clobber\n"
   ]
  },
  {
   "cell_type": "code",
   "execution_count": 6,
   "metadata": {
    "colab": {
     "base_uri": "https://localhost:8080/"
    },
    "id": "hxegKxM8UQyG",
    "outputId": "cd945262-1411-4a73-88d2-551184fb50c6"
   },
   "outputs": [
    {
     "name": "stdout",
     "output_type": "stream",
     "text": [
      "Archive:  gridkit_euorpe.zip\n",
      "  inflating: gridkit_europe-highvoltage-links.csv  \n",
      "  inflating: gridkit_europe-highvoltage-vertices.csv  \n",
      " gridkit_euorpe.zip\t\t        gridkit_europe-highvoltage-vertices.csv\n",
      "'gridkit_euorpe.zip?download=1'         sample_data\n",
      " gridkit_europe-highvoltage-links.csv\n"
     ]
    }
   ],
   "source": [
    "!unzip *.zip\n"
   ]
  },
  {
   "cell_type": "code",
   "execution_count": 7,
   "metadata": {
    "colab": {
     "base_uri": "https://localhost:8080/"
    },
    "id": "xQL61oQEVAdl",
    "outputId": "92c703fa-8414-4fc5-a91c-d95342867279"
   },
   "outputs": [
    {
     "name": "stdout",
     "output_type": "stream",
     "text": [
      "gridkit_euorpe.zip\t\t      gridkit_europe-highvoltage-vertices.csv\n",
      "gridkit_europe-highvoltage-links.csv  sample_data\n"
     ]
    }
   ],
   "source": [
    "!ls"
   ]
  },
  {
   "cell_type": "code",
   "execution_count": 11,
   "metadata": {
    "colab": {
     "base_uri": "https://localhost:8080/",
     "height": 835
    },
    "id": "RCXO7b1DVSqr",
    "outputId": "641fcfb2-67a1-4d6e-d2a1-5534c92199bb"
   },
   "outputs": [
    {
     "data": {
      "text/html": [
       "\n",
       "  <div id=\"df-c68ab15c-7e90-4bdd-9f48-f6d8617d39eb\">\n",
       "    <div class=\"colab-df-container\">\n",
       "      <div>\n",
       "<style scoped>\n",
       "    .dataframe tbody tr th:only-of-type {\n",
       "        vertical-align: middle;\n",
       "    }\n",
       "\n",
       "    .dataframe tbody tr th {\n",
       "        vertical-align: top;\n",
       "    }\n",
       "\n",
       "    .dataframe thead th {\n",
       "        text-align: right;\n",
       "    }\n",
       "</style>\n",
       "<table border=\"1\" class=\"dataframe\">\n",
       "  <thead>\n",
       "    <tr style=\"text-align: right;\">\n",
       "      <th></th>\n",
       "      <th>l_id</th>\n",
       "      <th>v_id_1</th>\n",
       "      <th>v_id_2</th>\n",
       "      <th>voltage</th>\n",
       "      <th>cables</th>\n",
       "      <th>wires</th>\n",
       "      <th>frequency</th>\n",
       "      <th>name</th>\n",
       "      <th>operator</th>\n",
       "      <th>ref</th>\n",
       "      <th>length_m</th>\n",
       "      <th>r_ohmkm</th>\n",
       "      <th>x_ohmkm</th>\n",
       "      <th>c_nfkm</th>\n",
       "      <th>i_th_max_a</th>\n",
       "      <th>from_relation</th>\n",
       "      <th>wkt_srid_4326</th>\n",
       "    </tr>\n",
       "  </thead>\n",
       "  <tbody>\n",
       "    <tr>\n",
       "      <th>0</th>\n",
       "      <td>22139</td>\n",
       "      <td>43193</td>\n",
       "      <td>23620</td>\n",
       "      <td>220000;132000</td>\n",
       "      <td>9</td>\n",
       "      <td>2</td>\n",
       "      <td>50</td>\n",
       "      <td>NaN</td>\n",
       "      <td>ATEL; BKW</td>\n",
       "      <td>NaN</td>\n",
       "      <td>489.727561</td>\n",
       "      <td>NaN</td>\n",
       "      <td>NaN</td>\n",
       "      <td>NaN</td>\n",
       "      <td>NaN</td>\n",
       "      <td>NaN</td>\n",
       "      <td>SRID=4326;LINESTRING(7.61602141237887 47.23259...</td>\n",
       "    </tr>\n",
       "    <tr>\n",
       "      <th>1</th>\n",
       "      <td>65908</td>\n",
       "      <td>42022</td>\n",
       "      <td>13686</td>\n",
       "      <td>750000</td>\n",
       "      <td>3;1;1;1;3</td>\n",
       "      <td>4;4;4;4</td>\n",
       "      <td>NaN</td>\n",
       "      <td>750 kV</td>\n",
       "      <td>NaN</td>\n",
       "      <td>NaN</td>\n",
       "      <td>394971.083012</td>\n",
       "      <td>NaN</td>\n",
       "      <td>NaN</td>\n",
       "      <td>NaN</td>\n",
       "      <td>NaN</td>\n",
       "      <td>NaN</td>\n",
       "      <td>SRID=4326;LINESTRING(26.6449735029238 50.29628...</td>\n",
       "    </tr>\n",
       "    <tr>\n",
       "      <th>2</th>\n",
       "      <td>67370</td>\n",
       "      <td>6913</td>\n",
       "      <td>48526</td>\n",
       "      <td>NaN</td>\n",
       "      <td>NaN</td>\n",
       "      <td>NaN</td>\n",
       "      <td>NaN</td>\n",
       "      <td>NaN</td>\n",
       "      <td>NaN</td>\n",
       "      <td>NaN</td>\n",
       "      <td>10602.245828</td>\n",
       "      <td>NaN</td>\n",
       "      <td>NaN</td>\n",
       "      <td>NaN</td>\n",
       "      <td>NaN</td>\n",
       "      <td>NaN</td>\n",
       "      <td>SRID=4326;LINESTRING(18.1844471738857 40.01608...</td>\n",
       "    </tr>\n",
       "    <tr>\n",
       "      <th>3</th>\n",
       "      <td>3868</td>\n",
       "      <td>35422</td>\n",
       "      <td>28973</td>\n",
       "      <td>NaN</td>\n",
       "      <td>NaN</td>\n",
       "      <td>NaN</td>\n",
       "      <td>NaN</td>\n",
       "      <td>NaN</td>\n",
       "      <td>NaN</td>\n",
       "      <td>NaN</td>\n",
       "      <td>2385.934530</td>\n",
       "      <td>NaN</td>\n",
       "      <td>NaN</td>\n",
       "      <td>NaN</td>\n",
       "      <td>NaN</td>\n",
       "      <td>NaN</td>\n",
       "      <td>SRID=4326;LINESTRING(10.2724738664462 49.88060...</td>\n",
       "    </tr>\n",
       "    <tr>\n",
       "      <th>4</th>\n",
       "      <td>4982</td>\n",
       "      <td>7864</td>\n",
       "      <td>63104</td>\n",
       "      <td>225000</td>\n",
       "      <td>3</td>\n",
       "      <td>1</td>\n",
       "      <td>50</td>\n",
       "      <td>NaN</td>\n",
       "      <td>RTE</td>\n",
       "      <td>NaN</td>\n",
       "      <td>1449.986592</td>\n",
       "      <td>NaN</td>\n",
       "      <td>NaN</td>\n",
       "      <td>NaN</td>\n",
       "      <td>NaN</td>\n",
       "      <td>NaN</td>\n",
       "      <td>SRID=4326;LINESTRING(3.80033661099728 45.04510...</td>\n",
       "    </tr>\n",
       "    <tr>\n",
       "      <th>...</th>\n",
       "      <td>...</td>\n",
       "      <td>...</td>\n",
       "      <td>...</td>\n",
       "      <td>...</td>\n",
       "      <td>...</td>\n",
       "      <td>...</td>\n",
       "      <td>...</td>\n",
       "      <td>...</td>\n",
       "      <td>...</td>\n",
       "      <td>...</td>\n",
       "      <td>...</td>\n",
       "      <td>...</td>\n",
       "      <td>...</td>\n",
       "      <td>...</td>\n",
       "      <td>...</td>\n",
       "      <td>...</td>\n",
       "      <td>...</td>\n",
       "    </tr>\n",
       "    <tr>\n",
       "      <th>18799</th>\n",
       "      <td>33852</td>\n",
       "      <td>65400</td>\n",
       "      <td>65401</td>\n",
       "      <td>330000</td>\n",
       "      <td>3</td>\n",
       "      <td>NaN</td>\n",
       "      <td>NaN</td>\n",
       "      <td>NaN</td>\n",
       "      <td>NaN</td>\n",
       "      <td>Л-238</td>\n",
       "      <td>181.804718</td>\n",
       "      <td>NaN</td>\n",
       "      <td>NaN</td>\n",
       "      <td>NaN</td>\n",
       "      <td>NaN</td>\n",
       "      <td>NaN</td>\n",
       "      <td>SRID=4326;LINESTRING(34.891839086949 48.400953...</td>\n",
       "    </tr>\n",
       "    <tr>\n",
       "      <th>18800</th>\n",
       "      <td>12859</td>\n",
       "      <td>61910</td>\n",
       "      <td>20324</td>\n",
       "      <td>220000</td>\n",
       "      <td>3;6</td>\n",
       "      <td>NaN</td>\n",
       "      <td>NaN</td>\n",
       "      <td>Somplago-Pordenone</td>\n",
       "      <td>NaN</td>\n",
       "      <td>22.265</td>\n",
       "      <td>873.335875</td>\n",
       "      <td>NaN</td>\n",
       "      <td>NaN</td>\n",
       "      <td>NaN</td>\n",
       "      <td>NaN</td>\n",
       "      <td>NaN</td>\n",
       "      <td>SRID=4326;LINESTRING(13.0725880043994 46.33610...</td>\n",
       "    </tr>\n",
       "    <tr>\n",
       "      <th>18801</th>\n",
       "      <td>17974</td>\n",
       "      <td>29715</td>\n",
       "      <td>22966</td>\n",
       "      <td>220000</td>\n",
       "      <td>3</td>\n",
       "      <td>NaN</td>\n",
       "      <td>NaN</td>\n",
       "      <td>NaN</td>\n",
       "      <td>NaN</td>\n",
       "      <td>NaN</td>\n",
       "      <td>40101.622386</td>\n",
       "      <td>NaN</td>\n",
       "      <td>NaN</td>\n",
       "      <td>NaN</td>\n",
       "      <td>NaN</td>\n",
       "      <td>NaN</td>\n",
       "      <td>SRID=4326;LINESTRING(22.9977678819448 63.71031...</td>\n",
       "    </tr>\n",
       "    <tr>\n",
       "      <th>18802</th>\n",
       "      <td>69707</td>\n",
       "      <td>36830</td>\n",
       "      <td>2741</td>\n",
       "      <td>400000</td>\n",
       "      <td>6;3;3</td>\n",
       "      <td>2</td>\n",
       "      <td>NaN</td>\n",
       "      <td>Realtor Tavel</td>\n",
       "      <td>RTE</td>\n",
       "      <td>NaN</td>\n",
       "      <td>1568.735938</td>\n",
       "      <td>NaN</td>\n",
       "      <td>NaN</td>\n",
       "      <td>NaN</td>\n",
       "      <td>NaN</td>\n",
       "      <td>NaN</td>\n",
       "      <td>SRID=4326;LINESTRING(5.34304391214955 43.44674...</td>\n",
       "    </tr>\n",
       "    <tr>\n",
       "      <th>18803</th>\n",
       "      <td>28512</td>\n",
       "      <td>30392</td>\n",
       "      <td>64859</td>\n",
       "      <td>NaN</td>\n",
       "      <td>3</td>\n",
       "      <td>1</td>\n",
       "      <td>NaN</td>\n",
       "      <td>NaN</td>\n",
       "      <td>NaN</td>\n",
       "      <td>NaN</td>\n",
       "      <td>40840.319702</td>\n",
       "      <td>NaN</td>\n",
       "      <td>NaN</td>\n",
       "      <td>NaN</td>\n",
       "      <td>NaN</td>\n",
       "      <td>NaN</td>\n",
       "      <td>SRID=4326;LINESTRING(10.3699302949897 45.62925...</td>\n",
       "    </tr>\n",
       "  </tbody>\n",
       "</table>\n",
       "<p>18804 rows × 17 columns</p>\n",
       "</div>\n",
       "      <button class=\"colab-df-convert\" onclick=\"convertToInteractive('df-c68ab15c-7e90-4bdd-9f48-f6d8617d39eb')\"\n",
       "              title=\"Convert this dataframe to an interactive table.\"\n",
       "              style=\"display:none;\">\n",
       "        \n",
       "  <svg xmlns=\"http://www.w3.org/2000/svg\" height=\"24px\"viewBox=\"0 0 24 24\"\n",
       "       width=\"24px\">\n",
       "    <path d=\"M0 0h24v24H0V0z\" fill=\"none\"/>\n",
       "    <path d=\"M18.56 5.44l.94 2.06.94-2.06 2.06-.94-2.06-.94-.94-2.06-.94 2.06-2.06.94zm-11 1L8.5 8.5l.94-2.06 2.06-.94-2.06-.94L8.5 2.5l-.94 2.06-2.06.94zm10 10l.94 2.06.94-2.06 2.06-.94-2.06-.94-.94-2.06-.94 2.06-2.06.94z\"/><path d=\"M17.41 7.96l-1.37-1.37c-.4-.4-.92-.59-1.43-.59-.52 0-1.04.2-1.43.59L10.3 9.45l-7.72 7.72c-.78.78-.78 2.05 0 2.83L4 21.41c.39.39.9.59 1.41.59.51 0 1.02-.2 1.41-.59l7.78-7.78 2.81-2.81c.8-.78.8-2.07 0-2.86zM5.41 20L4 18.59l7.72-7.72 1.47 1.35L5.41 20z\"/>\n",
       "  </svg>\n",
       "      </button>\n",
       "      \n",
       "  <style>\n",
       "    .colab-df-container {\n",
       "      display:flex;\n",
       "      flex-wrap:wrap;\n",
       "      gap: 12px;\n",
       "    }\n",
       "\n",
       "    .colab-df-convert {\n",
       "      background-color: #E8F0FE;\n",
       "      border: none;\n",
       "      border-radius: 50%;\n",
       "      cursor: pointer;\n",
       "      display: none;\n",
       "      fill: #1967D2;\n",
       "      height: 32px;\n",
       "      padding: 0 0 0 0;\n",
       "      width: 32px;\n",
       "    }\n",
       "\n",
       "    .colab-df-convert:hover {\n",
       "      background-color: #E2EBFA;\n",
       "      box-shadow: 0px 1px 2px rgba(60, 64, 67, 0.3), 0px 1px 3px 1px rgba(60, 64, 67, 0.15);\n",
       "      fill: #174EA6;\n",
       "    }\n",
       "\n",
       "    [theme=dark] .colab-df-convert {\n",
       "      background-color: #3B4455;\n",
       "      fill: #D2E3FC;\n",
       "    }\n",
       "\n",
       "    [theme=dark] .colab-df-convert:hover {\n",
       "      background-color: #434B5C;\n",
       "      box-shadow: 0px 1px 3px 1px rgba(0, 0, 0, 0.15);\n",
       "      filter: drop-shadow(0px 1px 2px rgba(0, 0, 0, 0.3));\n",
       "      fill: #FFFFFF;\n",
       "    }\n",
       "  </style>\n",
       "\n",
       "      <script>\n",
       "        const buttonEl =\n",
       "          document.querySelector('#df-c68ab15c-7e90-4bdd-9f48-f6d8617d39eb button.colab-df-convert');\n",
       "        buttonEl.style.display =\n",
       "          google.colab.kernel.accessAllowed ? 'block' : 'none';\n",
       "\n",
       "        async function convertToInteractive(key) {\n",
       "          const element = document.querySelector('#df-c68ab15c-7e90-4bdd-9f48-f6d8617d39eb');\n",
       "          const dataTable =\n",
       "            await google.colab.kernel.invokeFunction('convertToInteractive',\n",
       "                                                     [key], {});\n",
       "          if (!dataTable) return;\n",
       "\n",
       "          const docLinkHtml = 'Like what you see? Visit the ' +\n",
       "            '<a target=\"_blank\" href=https://colab.research.google.com/notebooks/data_table.ipynb>data table notebook</a>'\n",
       "            + ' to learn more about interactive tables.';\n",
       "          element.innerHTML = '';\n",
       "          dataTable['output_type'] = 'display_data';\n",
       "          await google.colab.output.renderOutput(dataTable, element);\n",
       "          const docLink = document.createElement('div');\n",
       "          docLink.innerHTML = docLinkHtml;\n",
       "          element.appendChild(docLink);\n",
       "        }\n",
       "      </script>\n",
       "    </div>\n",
       "  </div>\n",
       "  "
      ],
      "text/plain": [
       "        l_id  ...                                      wkt_srid_4326\n",
       "0      22139  ...  SRID=4326;LINESTRING(7.61602141237887 47.23259...\n",
       "1      65908  ...  SRID=4326;LINESTRING(26.6449735029238 50.29628...\n",
       "2      67370  ...  SRID=4326;LINESTRING(18.1844471738857 40.01608...\n",
       "3       3868  ...  SRID=4326;LINESTRING(10.2724738664462 49.88060...\n",
       "4       4982  ...  SRID=4326;LINESTRING(3.80033661099728 45.04510...\n",
       "...      ...  ...                                                ...\n",
       "18799  33852  ...  SRID=4326;LINESTRING(34.891839086949 48.400953...\n",
       "18800  12859  ...  SRID=4326;LINESTRING(13.0725880043994 46.33610...\n",
       "18801  17974  ...  SRID=4326;LINESTRING(22.9977678819448 63.71031...\n",
       "18802  69707  ...  SRID=4326;LINESTRING(5.34304391214955 43.44674...\n",
       "18803  28512  ...  SRID=4326;LINESTRING(10.3699302949897 45.62925...\n",
       "\n",
       "[18804 rows x 17 columns]"
      ]
     },
     "metadata": {},
     "output_type": "display_data"
    }
   ],
   "source": [
    "data = pd.read_csv('./gridkit_europe-highvoltage-links.csv', sep=',')\n",
    "\n",
    "display(data)"
   ]
  },
  {
   "cell_type": "markdown",
   "metadata": {
    "id": "qu4e2p9FV4ps"
   },
   "source": [
    "create network"
   ]
  },
  {
   "cell_type": "code",
   "execution_count": 12,
   "metadata": {
    "colab": {
     "base_uri": "https://localhost:8080/"
    },
    "id": "0wWakTevVoWX",
    "outputId": "3d5f5096-34b3-477d-f258-5a6a308d5bea"
   },
   "outputs": [
    {
     "name": "stdout",
     "output_type": "stream",
     "text": [
      "Graph with 13844 nodes and 17277 edges\n"
     ]
    }
   ],
   "source": [
    "G = nx.from_pandas_edgelist(data, source='v_id_1',target='v_id_2')\n",
    "print(nx.info(G))\n",
    "# convert to undirected graph\n",
    "G = G.to_undirected()"
   ]
  },
  {
   "cell_type": "code",
   "execution_count": 13,
   "metadata": {
    "colab": {
     "base_uri": "https://localhost:8080/"
    },
    "id": "2hngad9wWCsX",
    "outputId": "0af33e65-5563-47c8-e2f0-4d0aa3497c82"
   },
   "outputs": [
    {
     "name": "stdout",
     "output_type": "stream",
     "text": [
      "Graph with 13844 nodes and 17277 edges\n"
     ]
    }
   ],
   "source": [
    "G = nx.Graph(G) # multigraph to graph\n",
    "print(nx.info(G))"
   ]
  },
  {
   "cell_type": "markdown",
   "metadata": {
    "id": "_HWTNYD9Wa-C"
   },
   "source": [
    "1. Molloy-Reed criterion: Calculate $\\kappa$"
   ]
  },
  {
   "cell_type": "code",
   "execution_count": 17,
   "metadata": {
    "colab": {
     "base_uri": "https://localhost:8080/"
    },
    "id": "K3vNRWxMWamw",
    "outputId": "02c68489-56db-47b3-f402-2b42eaf290f2"
   },
   "outputs": [
    {
     "name": "stdout",
     "output_type": "stream",
     "text": [
      "<k> = 2.4959549263218723\n"
     ]
    }
   ],
   "source": [
    "# average degree <k>\n",
    "degrees = [val for (node, val) in G.degree()]\n",
    "avg_k = sum(degrees)/len(degrees)\n",
    "print(f\"<k> = {avg_k}\")"
   ]
  },
  {
   "cell_type": "code",
   "execution_count": 23,
   "metadata": {
    "colab": {
     "base_uri": "https://localhost:8080/"
    },
    "id": "0yA9PUVBWziw",
    "outputId": "2b2f1627-9b4a-446f-b873-9c3b279eeb47"
   },
   "outputs": [
    {
     "name": "stdout",
     "output_type": "stream",
     "text": [
      "<k^2> = 7.888182606183184\n"
     ]
    }
   ],
   "source": [
    "# second moment of degree <k^2>\n",
    "avg_k2 = sum([k**2 for k in degrees])/len(degrees)\n",
    "print(f\"<k^2> = {avg_k2}\")"
   ]
  },
  {
   "cell_type": "code",
   "execution_count": 22,
   "metadata": {
    "colab": {
     "base_uri": "https://localhost:8080/"
    },
    "id": "iEPH90tlWS94",
    "outputId": "37de9c04-d1d9-4e79-b791-4185560dd6d9"
   },
   "outputs": [
    {
     "name": "stdout",
     "output_type": "stream",
     "text": [
      "Molloy-Reed: kappa = 3.1603866411992825\n"
     ]
    }
   ],
   "source": [
    "# Molloy-Reed criterion\n",
    "kappa = avg_k2/avg_k\n",
    "print(f\"Molloy-Reed: kappa = {kappa}\")"
   ]
  },
  {
   "cell_type": "markdown",
   "metadata": {
    "id": "ydvpJrOAYTG5"
   },
   "source": [
    "$\\kappa > 2$, i.e. the Molloy-Reed criterion is satisfied and a giant component is expected in the network."
   ]
  },
  {
   "cell_type": "markdown",
   "metadata": {
    "id": "nv7ZHHQFYjS3"
   },
   "source": [
    "2. Absolute and relative size of the largest component:\n"
   ]
  },
  {
   "cell_type": "code",
   "execution_count": 26,
   "metadata": {
    "colab": {
     "base_uri": "https://localhost:8080/"
    },
    "id": "4sDrHBJ3YSnF",
    "outputId": "f6646f11-b687-4a55-fd22-a20e03910cc3"
   },
   "outputs": [
    {
     "name": "stdout",
     "output_type": "stream",
     "text": [
      "absolute size of largest component 13478\n",
      "relative size of largest component 0.9735625541750939\n"
     ]
    }
   ],
   "source": [
    "largest_cc = max(nx.connected_components(G), key=len)\n",
    "print(f\"absolute size of largest component {len(largest_cc)}\")\n",
    "print(f\"relative size of largest component {len(largest_cc)/G.number_of_nodes()}\")"
   ]
  },
  {
   "cell_type": "markdown",
   "metadata": {
    "id": "O1uOeZR-ZQRF"
   },
   "source": [
    "Yes, the largest component is almost of the same size as the network and can therefore be regarded as the giant component."
   ]
  },
  {
   "cell_type": "markdown",
   "metadata": {
    "id": "aMja5PuCZfAS"
   },
   "source": [
    "3. Compute $f_c$ and $f_c^{ER}$ for the network’s degree distribution. "
   ]
  },
  {
   "cell_type": "code",
   "execution_count": 28,
   "metadata": {
    "colab": {
     "base_uri": "https://localhost:8080/"
    },
    "id": "s7moO9XqY_YP",
    "outputId": "385d7395-72fd-4c6c-f572-625c8385c9ed"
   },
   "outputs": [
    {
     "name": "stdout",
     "output_type": "stream",
     "text": [
      "fc = 0.5371198928332217 < fc_ER = 0.5993517393065926\n"
     ]
    }
   ],
   "source": [
    "fc = 1-1/(kappa-1)\n",
    "fc_ER = 1-1/avg_k\n",
    "print(f\"fc = {fc} < fc_ER = {fc_ER}\")"
   ]
  },
  {
   "cell_type": "markdown",
   "metadata": {
    "id": "Gf7Q_53faD6q"
   },
   "source": [
    "The critical threshold of the network is slightly smaller than what would be expected by an Erdős–Rényi model with the same $\\left<k\\right>$, the network is therefore slightly less robust against random failure."
   ]
  },
  {
   "cell_type": "markdown",
   "metadata": {
    "id": "DodjiugPa9B1"
   },
   "source": [
    "4. \n",
    "(i) maximum component size and the (ii) average component size as a function of f ∈ [0,1].\n",
    "\n"
   ]
  },
  {
   "cell_type": "code",
   "execution_count": 57,
   "metadata": {
    "id": "GQccc9gua7zQ"
   },
   "outputs": [],
   "source": [
    "def get_component_sizes(G, n_samples=10, f_samples=21):\n",
    "  fractions = np.linspace(0,1,f_samples)\n",
    "  G = G.copy()\n",
    "  N = G.number_of_nodes()\n",
    "  Gc_0 = len(max(nx.connected_components(G), key=len))\n",
    "  Gc_max = np.zeros((len(fractions),n_samples))\n",
    "  Gc_avg = np.zeros((len(fractions),n_samples))\n",
    "  for i in range(n_samples):\n",
    "    for j, f in enumerate(fractions):\n",
    "      G_ = G.copy()\n",
    "      nodes = [n for n in G_.nodes]\n",
    "      # remove f*N nodes\n",
    "      if f > 0.0:\n",
    "        rnd_nodes = random.sample(nodes,round(f*N))\n",
    "        for n in rnd_nodes:\n",
    "          G_.remove_node(n)\n",
    "      cc = [len(c) for c in sorted(nx.connected_components(G_), key=len, reverse=True)]\n",
    "      largest_cc = max(cc) if len(cc)>0 else 0\n",
    "      Gc_max[j,i] = largest_cc\n",
    "      Gc_avg[j,i] = sum(cc)/len(cc) if len(cc)>0 else 0\n",
    "  Gc_max = np.average(Gc_max,axis=1)\n",
    "  Gc_avg = np.average(Gc_avg,axis=1)\n",
    "  return Gc_max, Gc_avg, fractions"
   ]
  },
  {
   "cell_type": "code",
   "execution_count": 58,
   "metadata": {
    "id": "-NJurtN-aCxV"
   },
   "outputs": [],
   "source": [
    "Gc_max, Gc_avg, fractions = get_component_sizes(G, n_samples=10)\n"
   ]
  },
  {
   "cell_type": "code",
   "execution_count": 60,
   "metadata": {
    "colab": {
     "base_uri": "https://localhost:8080/",
     "height": 591
    },
    "id": "2Mvu1gIRdG6L",
    "outputId": "535b2c31-a982-422a-8531-030e9a6fd0c9"
   },
   "outputs": [
    {
     "data": {
      "text/plain": [
       "Text(0.5, 1.0, 'Average Component Size')"
      ]
     },
     "execution_count": 60,
     "metadata": {},
     "output_type": "execute_result"
    },
    {
     "data": {
      "image/png": "[encoded data removed]",
      "text/plain": [
       "<Figure size 432x288 with 1 Axes>"
      ]
     },
     "metadata": {
      "needs_background": "light"
     },
     "output_type": "display_data"
    },
    {
     "data": {
      "image/png": "[encoded data removed]",
      "text/plain": [
       "<Figure size 432x288 with 1 Axes>"
      ]
     },
     "metadata": {
      "needs_background": "light"
     },
     "output_type": "display_data"
    }
   ],
   "source": [
    "plt.figure()\n",
    "plt.plot(fractions*100, Gc_max)\n",
    "plt.ylabel(\"$P_{\\infty}N$\")\n",
    "plt.xlabel(\"Percentage f\")\n",
    "plt.title(\"Maximum Component Size\")\n",
    "\n",
    "plt.figure()\n",
    "plt.plot(fractions*100, Gc_avg)\n",
    "plt.ylabel(\"<S>\")\n",
    "plt.xlabel(\"Percentage f\")\n",
    "plt.title(\"Average Component Size\")"
   ]
  },
  {
   "cell_type": "markdown",
   "metadata": {
    "id": "OF9UIALNhOPz"
   },
   "source": [
    "Both maximum and average component size are rapidly decreasing, even before a fraction fc or fc_ER is removed, indicating that the network is very prone to random attacks.\n",
    "(Note: When calculating the average component size we have also included the largest (giant) component)"
   ]
  },
  {
   "cell_type": "code",
   "execution_count": null,
   "metadata": {
    "id": "wI4E9Wb3f19w"
   },
   "outputs": [],
   "source": []
  }
 ],
 "metadata": {
  "colab": {
   "collapsed_sections": [],
   "name": "Problem_8-1.ipynb",
   "provenance": []
  },
  "kernelspec": {
   "display_name": "Python 3",
   "language": "python",
   "name": "python3"
  },
  "language_info": {
   "codemirror_mode": {
    "name": "ipython",
    "version": 3
   },
   "file_extension": ".py",
   "mimetype": "text/x-python",
   "name": "python",
   "nbconvert_exporter": "python",
   "pygments_lexer": "ipython3",
   "version": "3.8.5"
  }
 },
 "nbformat": 4,
 "nbformat_minor": 1
}
