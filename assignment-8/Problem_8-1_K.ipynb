{
 "cells": [
  {
   "cell_type": "code",
   "execution_count": 217,
   "metadata": {},
   "outputs": [],
   "source": [
    "import pandas as pd\n",
    "import matplotlib.pyplot as plt\n",
    "import numpy as np\n",
    "import seaborn as sns\n",
    "from igraph import *"
   ]
  },
  {
   "cell_type": "code",
   "execution_count": 218,
   "metadata": {},
   "outputs": [],
   "source": [
    "df_links = pd.read_csv('../data/gridkit_europe-highvoltage-links.csv')\n",
    "df_vertices = pd.read_csv('../data/gridkit_europe-highvoltage-vertices.csv')"
   ]
  },
  {
   "cell_type": "code",
   "execution_count": 219,
   "metadata": {},
   "outputs": [
    {
     "data": {
      "text/plain": [
       "(13844, 17277)"
      ]
     },
     "execution_count": 219,
     "metadata": {},
     "output_type": "execute_result"
    }
   ],
   "source": [
    "g = Graph([(row['v_id_1'], row['v_id_2']) for _, row in df_links.iterrows()])\n",
    "g.simplify()\n",
    "g.to_undirected()\n",
    "to_delete_ids = [v.index for v in g.vs if v.degree() == 0]\n",
    "g.delete_vertices(to_delete_ids)\n",
    "# Test\n",
    "assert (np.array(g.is_multiple()) == True).sum() == 0\n",
    "assert (np.array(g.has_multiple()) == True).sum() == 0\n",
    "assert (np.array(g.is_loop()) == True).sum() == 0\n",
    "g.vcount(), g.ecount()"
   ]
  },
  {
   "cell_type": "code",
   "execution_count": 220,
   "metadata": {},
   "outputs": [
    {
     "name": "stdout",
     "output_type": "stream",
     "text": [
      "1. Kaapa: 0.31641698106296584, k 2.4959549263218896, kk 7.888182606183211\n"
     ]
    }
   ],
   "source": [
    "k = sum(g.degree())/len(g.degree())\n",
    "k = mean(g.degree())\n",
    "kk =  mean([g*g for g in g.degree()])\n",
    "kappa =k / kk\n",
    "kappa, k, kk\n",
    "print(f'1. Kaapa: {kappa}, k {k}, kk {kk}')"
   ]
  },
  {
   "cell_type": "code",
   "execution_count": 221,
   "metadata": {},
   "outputs": [
    {
     "name": "stdout",
     "output_type": "stream",
     "text": [
      "2. Absolute size: 13478, relative size 0.9735625541750939\n"
     ]
    }
   ],
   "source": [
    "def get_component_size(gn):\n",
    "    g_giant = gn.clusters().giant()\n",
    "    return g_giant.vcount(), g_giant.vcount() / gn.vcount()\n",
    "\n",
    "abs_size, rel_size = get_component_size(g)\n",
    "print(f'2. Absolute size: {abs_size}, relative size {rel_size}')"
   ]
  },
  {
   "cell_type": "code",
   "execution_count": 222,
   "metadata": {},
   "outputs": [
    {
     "name": "stdout",
     "output_type": "stream",
     "text": [
      "3. f_c: 2.4628801071667805, f_c_err 0.5993517393065954\n"
     ]
    }
   ],
   "source": [
    "f_c = 1. - 1. / (kappa-1)\n",
    "f_c_err = 1. - 1. / mean(g.degree())\n",
    "print(f'3. f_c: {f_c}, f_c_err {f_c_err}')"
   ]
  },
  {
   "cell_type": "code",
   "execution_count": 226,
   "metadata": {},
   "outputs": [],
   "source": [
    "absolute_sizes = []\n",
    "relative_sizes = []\n",
    "f_s = []\n",
    "for f in np.linspace(0.0, 0.9, 100):\n",
    "    abs_sizes = []\n",
    "    rel_sizes = []\n",
    "    for _  in range(100):\n",
    "        g_sample = g.copy()\n",
    "        to_delete_ids = np.random.choice([v.index for v in g_sample.vs], size=int(np.round(f*g_sample.vcount())), replace=False)\n",
    "        g_sample.delete_vertices(to_delete_ids)\n",
    "        absolute_size, relative_size = get_component_size(g_sample)\n",
    "        absolute_sizes.append(absolute_size)\n",
    "        relative_sizes.append(relative_size)\n",
    "        f_s.append(f)\n",
    "df_f = pd.DataFrame({'f': f_s, 'Absolute size': absolute_sizes, 'Relative size': relative_sizes})"
   ]
  },
  {
   "cell_type": "markdown",
   "metadata": {},
   "source": [
    "##### 4. Absolute and relative size versus f"
   ]
  },
  {
   "cell_type": "code",
   "execution_count": 227,
   "metadata": {},
   "outputs": [
    {
     "data": {
      "text/plain": [
       "<AxesSubplot:xlabel='f', ylabel='Absolute size'>"
      ]
     },
     "execution_count": 227,
     "metadata": {},
     "output_type": "execute_result"
    },
    {
     "data": {
      "image/png": "[encoded data removed]",
      "text/plain": [
       "<Figure size 432x288 with 1 Axes>"
      ]
     },
     "metadata": {
      "needs_background": "light"
     },
     "output_type": "display_data"
    }
   ],
   "source": [
    "sns.lineplot(data=df_f, x='f', y='Absolute size')"
   ]
  },
  {
   "cell_type": "code",
   "execution_count": 228,
   "metadata": {},
   "outputs": [
    {
     "data": {
      "text/plain": [
       "<AxesSubplot:xlabel='f', ylabel='Relative size'>"
      ]
     },
     "execution_count": 228,
     "metadata": {},
     "output_type": "execute_result"
    },
    {
     "data": {
      "image/png": "[encoded data removed]",
      "text/plain": [
       "<Figure size 432x288 with 1 Axes>"
      ]
     },
     "metadata": {
      "needs_background": "light"
     },
     "output_type": "display_data"
    }
   ],
   "source": [
    "sns.lineplot(data=df_f, x='f', y='Relative size')"
   ]
  },
  {
   "cell_type": "code",
   "execution_count": null,
   "metadata": {},
   "outputs": [],
   "source": []
  }
 ],
 "metadata": {
  "kernelspec": {
   "display_name": "cna",
   "language": "python",
   "name": "cna"
  },
  "language_info": {
   "codemirror_mode": {
    "name": "ipython",
    "version": 3
   },
   "file_extension": ".py",
   "mimetype": "text/x-python",
   "name": "python",
   "nbconvert_exporter": "python",
   "pygments_lexer": "ipython3",
   "version": "3.8.5"
  }
 },
 "nbformat": 4,
 "nbformat_minor": 4
}
