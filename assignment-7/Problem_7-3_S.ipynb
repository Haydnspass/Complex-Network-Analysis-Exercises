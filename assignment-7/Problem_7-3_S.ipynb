{
 "cells": [
  {
   "cell_type": "markdown",
   "metadata": {
    "id": "_BqBgsaAxpPS"
   },
   "source": [
    "Names:\n",
    "1) Klaus Kades (Uni-id: fw448 Matrikelnr.: 3408463)\n",
    "\n",
    "2) Lucas-Raphael Müller (Uni-id: al413 Matrikelnr.: 3205638)\n",
    "\n",
    "3) Melanie Schellenberg (Uni-id: qh400 Matrikelnr.: 3146390)\n",
    "\n",
    "4) Shuhan Xiao (Uni-id: kg410 Matrikelnr.: 3160697)\n"
   ]
  },
  {
   "cell_type": "code",
   "execution_count": null,
   "metadata": {
    "id": "-V6PqYjLxl1I"
   },
   "outputs": [],
   "source": [
    "import pandas as pd \n",
    "import networkx as nx \n",
    "import matplotlib as mpl \n",
    "import matplotlib.pyplot as plt \n",
    "import numpy as np\n",
    "from collections import Counter\n",
    "import random"
   ]
  },
  {
   "cell_type": "markdown",
   "metadata": {
    "id": "kHTtJi9UyIDV"
   },
   "source": [
    "# Assignment 7\n",
    "## Problem 7-3 Xalvi-Brunet and Sokolov Algorithm\n",
    "\n",
    "### 1.\n",
    "Implement a function to perform the Xalvi-Brunet and Sokolov algorithm on a given network."
   ]
  },
  {
   "cell_type": "code",
   "execution_count": 209,
   "metadata": {
    "id": "-galpc0EjQrs"
   },
   "outputs": [],
   "source": [
    "def xalvi_brunet_sokolov_algorithm(G,n_iterations=100,assortative=True):\n",
    "  G = G.copy()\n",
    "  cont = 0\n",
    "  for i in range(n_iterations):\n",
    "    #print(f\"it {i} {G.number_of_edges()}\")\n",
    "    edges = [e for e in G.edges]\n",
    "    rnd_links = random.sample(edges,2)\n",
    "    nodes = np.array([node for link in rnd_links for node in link])\n",
    "    node_degrees = np.array([val for _, val in G.degree(nodes)])\n",
    "    nodes = nodes[node_degrees.argsort()]\n",
    "    # only perform step if no duplicate nodes are selected\n",
    "    if len(np.unique(nodes)) == len(nodes): \n",
    "      if assortative:\n",
    "        if (not G.has_edge(nodes[0],nodes[1])) and (not G.has_edge(nodes[2],nodes[3])):\n",
    "          G.remove_edge(rnd_links[0][0], rnd_links[0][1])\n",
    "          G.remove_edge(rnd_links[1][0], rnd_links[1][1])\n",
    "          # rewire to increase assortativity\n",
    "          G.add_edge(nodes[0], nodes[1])\n",
    "          G.add_edge(nodes[2], nodes[3])\n",
    "        else:\n",
    "          continue # discard step if multiple edges would be created\n",
    "      else:\n",
    "        if (not G.has_edge(nodes[0],nodes[3])) and not(G.has_edge(nodes[1],nodes[2])):\n",
    "          G.remove_edge(rnd_links[0][0], rnd_links[0][1])\n",
    "          G.remove_edge(rnd_links[1][0], rnd_links[1][1])\n",
    "          # rewire to increase disassortativity\n",
    "          G.add_edge(nodes[0], nodes[3])\n",
    "          G.add_edge(nodes[1], nodes[2])\n",
    "        else:\n",
    "          continue # discard step if multiple edges would be created\n",
    "  print(cont)\n",
    "  return G"
   ]
  },
  {
   "cell_type": "markdown",
   "metadata": {
    "id": "Ug1m2ryHf6IY"
   },
   "source": [
    "### 2. \n",
    "Create two\n",
    "additional networks using 5000 iterations of the Xalvi-Brunet and Sokolov algorithm: One network that\n",
    "has been optimized for a high assortativity, and one optimized for disassortativity."
   ]
  },
  {
   "cell_type": "code",
   "execution_count": 243,
   "metadata": {
    "colab": {
     "base_uri": "https://localhost:8080/",
     "height": 243
    },
    "id": "-1tPhF3QhpvG",
    "outputId": "0396b62b-8799-463d-d647-f26f40ddbc07"
   },
   "outputs": [
    {
     "name": "stdout",
     "output_type": "stream",
     "text": [
      "(294, 2)\n"
     ]
    },
    {
     "data": {
      "text/html": [
       "\n",
       "  <div id=\"df-297a3f8b-eed5-4e58-b12a-284596f00704\">\n",
       "    <div class=\"colab-df-container\">\n",
       "      <div>\n",
       "<style scoped>\n",
       "    .dataframe tbody tr th:only-of-type {\n",
       "        vertical-align: middle;\n",
       "    }\n",
       "\n",
       "    .dataframe tbody tr th {\n",
       "        vertical-align: top;\n",
       "    }\n",
       "\n",
       "    .dataframe thead th {\n",
       "        text-align: right;\n",
       "    }\n",
       "</style>\n",
       "<table border=\"1\" class=\"dataframe\">\n",
       "  <thead>\n",
       "    <tr style=\"text-align: right;\">\n",
       "      <th></th>\n",
       "      <th>node1</th>\n",
       "      <th>node2</th>\n",
       "    </tr>\n",
       "  </thead>\n",
       "  <tbody>\n",
       "    <tr>\n",
       "      <th>0</th>\n",
       "      <td>0</td>\n",
       "      <td>1</td>\n",
       "    </tr>\n",
       "    <tr>\n",
       "      <th>1</th>\n",
       "      <td>0</td>\n",
       "      <td>2</td>\n",
       "    </tr>\n",
       "    <tr>\n",
       "      <th>2</th>\n",
       "      <td>0</td>\n",
       "      <td>3</td>\n",
       "    </tr>\n",
       "    <tr>\n",
       "      <th>3</th>\n",
       "      <td>0</td>\n",
       "      <td>4</td>\n",
       "    </tr>\n",
       "    <tr>\n",
       "      <th>4</th>\n",
       "      <td>0</td>\n",
       "      <td>6</td>\n",
       "    </tr>\n",
       "  </tbody>\n",
       "</table>\n",
       "</div>\n",
       "      <button class=\"colab-df-convert\" onclick=\"convertToInteractive('df-297a3f8b-eed5-4e58-b12a-284596f00704')\"\n",
       "              title=\"Convert this dataframe to an interactive table.\"\n",
       "              style=\"display:none;\">\n",
       "        \n",
       "  <svg xmlns=\"http://www.w3.org/2000/svg\" height=\"24px\"viewBox=\"0 0 24 24\"\n",
       "       width=\"24px\">\n",
       "    <path d=\"M0 0h24v24H0V0z\" fill=\"none\"/>\n",
       "    <path d=\"M18.56 5.44l.94 2.06.94-2.06 2.06-.94-2.06-.94-.94-2.06-.94 2.06-2.06.94zm-11 1L8.5 8.5l.94-2.06 2.06-.94-2.06-.94L8.5 2.5l-.94 2.06-2.06.94zm10 10l.94 2.06.94-2.06 2.06-.94-2.06-.94-.94-2.06-.94 2.06-2.06.94z\"/><path d=\"M17.41 7.96l-1.37-1.37c-.4-.4-.92-.59-1.43-.59-.52 0-1.04.2-1.43.59L10.3 9.45l-7.72 7.72c-.78.78-.78 2.05 0 2.83L4 21.41c.39.39.9.59 1.41.59.51 0 1.02-.2 1.41-.59l7.78-7.78 2.81-2.81c.8-.78.8-2.07 0-2.86zM5.41 20L4 18.59l7.72-7.72 1.47 1.35L5.41 20z\"/>\n",
       "  </svg>\n",
       "      </button>\n",
       "      \n",
       "  <style>\n",
       "    .colab-df-container {\n",
       "      display:flex;\n",
       "      flex-wrap:wrap;\n",
       "      gap: 12px;\n",
       "    }\n",
       "\n",
       "    .colab-df-convert {\n",
       "      background-color: #E8F0FE;\n",
       "      border: none;\n",
       "      border-radius: 50%;\n",
       "      cursor: pointer;\n",
       "      display: none;\n",
       "      fill: #1967D2;\n",
       "      height: 32px;\n",
       "      padding: 0 0 0 0;\n",
       "      width: 32px;\n",
       "    }\n",
       "\n",
       "    .colab-df-convert:hover {\n",
       "      background-color: #E2EBFA;\n",
       "      box-shadow: 0px 1px 2px rgba(60, 64, 67, 0.3), 0px 1px 3px 1px rgba(60, 64, 67, 0.15);\n",
       "      fill: #174EA6;\n",
       "    }\n",
       "\n",
       "    [theme=dark] .colab-df-convert {\n",
       "      background-color: #3B4455;\n",
       "      fill: #D2E3FC;\n",
       "    }\n",
       "\n",
       "    [theme=dark] .colab-df-convert:hover {\n",
       "      background-color: #434B5C;\n",
       "      box-shadow: 0px 1px 3px 1px rgba(0, 0, 0, 0.15);\n",
       "      filter: drop-shadow(0px 1px 2px rgba(0, 0, 0, 0.3));\n",
       "      fill: #FFFFFF;\n",
       "    }\n",
       "  </style>\n",
       "\n",
       "      <script>\n",
       "        const buttonEl =\n",
       "          document.querySelector('#df-297a3f8b-eed5-4e58-b12a-284596f00704 button.colab-df-convert');\n",
       "        buttonEl.style.display =\n",
       "          google.colab.kernel.accessAllowed ? 'block' : 'none';\n",
       "\n",
       "        async function convertToInteractive(key) {\n",
       "          const element = document.querySelector('#df-297a3f8b-eed5-4e58-b12a-284596f00704');\n",
       "          const dataTable =\n",
       "            await google.colab.kernel.invokeFunction('convertToInteractive',\n",
       "                                                     [key], {});\n",
       "          if (!dataTable) return;\n",
       "\n",
       "          const docLinkHtml = 'Like what you see? Visit the ' +\n",
       "            '<a target=\"_blank\" href=https://colab.research.google.com/notebooks/data_table.ipynb>data table notebook</a>'\n",
       "            + ' to learn more about interactive tables.';\n",
       "          element.innerHTML = '';\n",
       "          dataTable['output_type'] = 'display_data';\n",
       "          await google.colab.output.renderOutput(dataTable, element);\n",
       "          const docLink = document.createElement('div');\n",
       "          docLink.innerHTML = docLinkHtml;\n",
       "          element.appendChild(docLink);\n",
       "        }\n",
       "      </script>\n",
       "    </div>\n",
       "  </div>\n",
       "  "
      ],
      "text/plain": [
       "   node1  node2\n",
       "0      0      1\n",
       "1      0      2\n",
       "2      0      3\n",
       "3      0      4\n",
       "4      0      6"
      ]
     },
     "metadata": {},
     "output_type": "display_data"
    },
    {
     "name": "stdout",
     "output_type": "stream",
     "text": [
      "Graph with 100 nodes and 294 edges\n"
     ]
    }
   ],
   "source": [
    "# load \n",
    "data = pd.read_csv(f'./neutral_network.txt', sep=r\"\\s+\", index_col=None, names=['node1','node2'],)\n",
    "print(data.shape)\n",
    "display(data.head())\n",
    "#print(data.shape)\n",
    "G = nx.from_pandas_edgelist(data, source='node1',target='node2')\n",
    "# convert to undirected graph\n",
    "G = G.to_undirected()\n",
    "print(G)"
   ]
  },
  {
   "cell_type": "code",
   "execution_count": 398,
   "metadata": {
    "colab": {
     "base_uri": "https://localhost:8080/"
    },
    "id": "XUaLQm1Rh53I",
    "outputId": "0207d59e-b468-45a8-ad27-64e4150e80b5"
   },
   "outputs": [
    {
     "name": "stdout",
     "output_type": "stream",
     "text": [
      "neutral network r=-0.00924626270173102\n",
      "4326\n",
      "increased assortativity r=0.7481758359324402\n",
      "Graph with 100 nodes and 294 edges\n"
     ]
    }
   ],
   "source": [
    "print(f\"neutral network r={nx.degree_assortativity_coefficient(G)}\")\n",
    "# assortative network\n",
    "Ga = xalvi_brunet_sokolov_algorithm(G, n_iterations=5000, assortative=True)\n",
    "print(f\"increased assortativity r={nx.degree_assortativity_coefficient(Ga)}\")\n",
    "print(Ga)\n"
   ]
  },
  {
   "cell_type": "code",
   "execution_count": 399,
   "metadata": {
    "colab": {
     "base_uri": "https://localhost:8080/"
    },
    "id": "tmN86NoniRPP",
    "outputId": "52bd24d8-e03e-4d13-8251-e55a97236d83"
   },
   "outputs": [
    {
     "name": "stdout",
     "output_type": "stream",
     "text": [
      "3874\n",
      "increased disassortativity r=-0.8394536681115572\n",
      "Graph with 100 nodes and 294 edges\n"
     ]
    }
   ],
   "source": [
    "# disassortative network\n",
    "Gd = xalvi_brunet_sokolov_algorithm(G, n_iterations=5000, assortative=False)\n",
    "print(f\"increased disassortativity r={nx.degree_assortativity_coefficient(Gd)}\")\n",
    "print(Gd)"
   ]
  },
  {
   "cell_type": "markdown",
   "metadata": {
    "id": "M73rDbRvoto0"
   },
   "source": [
    "### 3.\n",
    "For all three networks, plot $P_{∞}(f)/P_{∞}(0)$. "
   ]
  },
  {
   "cell_type": "code",
   "execution_count": 386,
   "metadata": {
    "colab": {
     "base_uri": "https://localhost:8080/"
    },
    "id": "vOMZvXOej5PP",
    "outputId": "8b49c900-7110-4a10-ef1a-bacae1239603"
   },
   "outputs": [
    {
     "name": "stdout",
     "output_type": "stream",
     "text": [
      "100\n"
     ]
    }
   ],
   "source": [
    "largest_cc = max(nx.connected_components(G), key=len)\n",
    "print(len(largest_cc))"
   ]
  },
  {
   "cell_type": "code",
   "execution_count": 401,
   "metadata": {
    "id": "8idoQa1HrC9j"
   },
   "outputs": [],
   "source": [
    "def get_relative_gc_size(G, n_samples=10, f_samples=21):\n",
    "  fractions = np.linspace(0,1,f_samples)\n",
    "  G = G.copy()\n",
    "  N = G.number_of_nodes()\n",
    "  Gc_0 = len(max(nx.connected_components(G), key=len))\n",
    "  Gc_f = np.zeros((len(fractions),n_samples))\n",
    "  for i in range(n_samples):\n",
    "    for j, f in enumerate(fractions):\n",
    "      G_ = G.copy()\n",
    "      nodes = [n for n in G_.nodes]\n",
    "      # remove f*N nodes\n",
    "      if f > 0.0:\n",
    "        rnd_nodes = random.sample(nodes,round(f*N))\n",
    "        for n in rnd_nodes:\n",
    "          G_.remove_node(n)\n",
    "      cc = [len(c) for c in sorted(nx.connected_components(G_), key=len, reverse=True)]\n",
    "      print(cc)\n",
    "      largest_cc = max(cc) if len(cc)>0 else 0\n",
    "      Gc_f[j,i] = largest_cc/Gc_0\n",
    "  Gc_f = np.average(Gc_f,axis=1)\n",
    "  return Gc_f, fractions\n"
   ]
  },
  {
   "cell_type": "code",
   "execution_count": 388,
   "metadata": {
    "id": "Ee7Omn5jx5MO"
   },
   "outputs": [],
   "source": [
    "def plot_relative_gc_size(G, name=\"\"):\n",
    "  Gc_f, fractions = get_relative_gc_size(G, n_samples=50)\n",
    "  plt.figure()\n",
    "  plt.plot(fractions, Gc_f)\n",
    "  plt.ylabel(\"$P_{\\infty}(f)/P_{\\infty}(0)$\")\n",
    "  plt.xlabel(\"fraction f\")\n",
    "  plt.title(f\"Relative Size of Giant Component of {name} network\")\n"
   ]
  },
  {
   "cell_type": "code",
   "execution_count": 400,
   "metadata": {
    "colab": {
     "base_uri": "https://localhost:8080/",
     "height": 313
    },
    "id": "GDvueAOd2J9n",
    "outputId": "1b62d777-ae3f-4517-fbcc-869cd36ff5e9"
   },
   "outputs": [
    {
     "data": {
      "text/plain": [
       "Text(0.5, 1.0, 'Relative Size of Giant Component')"
      ]
     },
     "execution_count": 400,
     "metadata": {},
     "output_type": "execute_result"
    },
    {
     "data": {
      "image/png": "[encoded data removed]",
      "text/plain": [
       "<Figure size 432x288 with 1 Axes>"
      ]
     },
     "metadata": {
      "needs_background": "light"
     },
     "output_type": "display_data"
    }
   ],
   "source": [
    "n_samples = 100\n",
    "G_list = [G, Ga, Gd]\n",
    "plt.figure()\n",
    "for G_ in G_list:\n",
    "  Gc_f, fractions = get_relative_gc_size(G_, n_samples=n_samples, f_samples=21)\n",
    "  plt.plot(fractions, Gc_f, \".-\")\n",
    "plt.ylabel(\"$P_{\\infty}(f)/P_{\\infty}(0)$\")\n",
    "plt.xlabel(\"fraction f\")\n",
    "plt.legend([\"neutral\",\"assortative\",\"disassortative\"])\n",
    "plt.title(f\"Relative Size of Giant Component\")\n"
   ]
  },
  {
   "cell_type": "markdown",
   "metadata": {
    "id": "CX0v-dMjDl9F"
   },
   "source": [
    "### 4.\n",
    "Which network is the most robust against random failures?\n",
    "\n",
    "\n",
    "The neutral network is the most robust against random failures, the disassortative network shows a similar behaviour (the green curve is slightly below the blue curve). A smaller fraction of nodes of the assortative network need to be removed to significantly decrease the size of the giant component, which can be seen in the above plot (the orange curve is lower, especially between f=0.4 and f=0.7), the assortative network is therefore less robust.\n",
    "\n",
    "\n",
    "This can be explained by the fact that when high degree nodes are removed in assortative networks, also many other high degree nodes are affected (since high degree nodes are on average more likely to be connected to other high degree nodes in assortative networks). It is therefore possible, that by removing high degree nodes also the links between cluster of other nodes with high degrees are removed. Additionaly, it is also more likely for low degree nodes lose connection to the giant component, since they are mostly connected to ther low degree nodes, e.g. in long chains. The network easily becomes fragmented into smaller components, compared to disassortative or neutral networks.\n",
    "\n"
   ]
  },
  {
   "cell_type": "code",
   "execution_count": null,
   "metadata": {
    "id": "VIUROaKmAFaJ"
   },
   "outputs": [],
   "source": []
  }
 ],
 "metadata": {
  "colab": {
   "collapsed_sections": [],
   "name": "Problem_7-3.ipynb",
   "provenance": []
  },
  "kernelspec": {
   "display_name": "Python 3",
   "language": "python",
   "name": "python3"
  },
  "language_info": {
   "codemirror_mode": {
    "name": "ipython",
    "version": 3
   },
   "file_extension": ".py",
   "mimetype": "text/x-python",
   "name": "python",
   "nbconvert_exporter": "python",
   "pygments_lexer": "ipython3",
   "version": "3.8.5"
  }
 },
 "nbformat": 4,
 "nbformat_minor": 1
}
