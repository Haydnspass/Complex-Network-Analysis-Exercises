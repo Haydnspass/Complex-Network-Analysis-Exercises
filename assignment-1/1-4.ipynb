{
 "cells": [
  {
   "cell_type": "markdown",
   "id": "7f881416",
   "metadata": {},
   "source": [
    "Problem 1-4 \\\n",
    "Assignment 1 \\\n",
    "Shuhan Xiao, Klaus Kades, Lucas-Raphael Müller, Melanie Schellenberg"
   ]
  },
  {
   "cell_type": "code",
   "execution_count": 3,
   "id": "591379b1",
   "metadata": {},
   "outputs": [
    {
     "name": "stdout",
     "output_type": "stream",
     "text": [
      "Requirement already satisfied: numpy in /workplace/anaconda3/envs/complex_network/lib/python3.9/site-packages (1.21.3)\n",
      "Requirement already satisfied: pandas in /workplace/anaconda3/envs/complex_network/lib/python3.9/site-packages (1.3.4)\n",
      "Requirement already satisfied: python-igraph in /workplace/anaconda3/envs/complex_network/lib/python3.9/site-packages (0.9.7)\n",
      "Requirement already satisfied: matplotlib in /workplace/anaconda3/envs/complex_network/lib/python3.9/site-packages (3.4.3)\n",
      "Requirement already satisfied: pycairo in /workplace/anaconda3/envs/complex_network/lib/python3.9/site-packages (1.20.1)\n",
      "Requirement already satisfied: cairocffi in /workplace/anaconda3/envs/complex_network/lib/python3.9/site-packages (1.3.0)\n",
      "Requirement already satisfied: python-dateutil>=2.7.3 in /workplace/anaconda3/envs/complex_network/lib/python3.9/site-packages (from pandas) (2.8.2)\n",
      "Requirement already satisfied: pytz>=2017.3 in /workplace/anaconda3/envs/complex_network/lib/python3.9/site-packages (from pandas) (2021.3)\n",
      "Requirement already satisfied: texttable>=1.6.2 in /workplace/anaconda3/envs/complex_network/lib/python3.9/site-packages (from python-igraph) (1.6.4)\n",
      "Requirement already satisfied: pyparsing>=2.2.1 in /workplace/anaconda3/envs/complex_network/lib/python3.9/site-packages (from matplotlib) (3.0.3)\n",
      "Requirement already satisfied: pillow>=6.2.0 in /workplace/anaconda3/envs/complex_network/lib/python3.9/site-packages (from matplotlib) (8.3.2)\n",
      "Requirement already satisfied: cycler>=0.10 in /workplace/anaconda3/envs/complex_network/lib/python3.9/site-packages (from matplotlib) (0.10.0)\n",
      "Requirement already satisfied: kiwisolver>=1.0.1 in /workplace/anaconda3/envs/complex_network/lib/python3.9/site-packages (from matplotlib) (1.3.2)\n",
      "Requirement already satisfied: cffi>=1.1.0 in /workplace/anaconda3/envs/complex_network/lib/python3.9/site-packages (from cairocffi) (1.14.6)\n",
      "Requirement already satisfied: pycparser in /workplace/anaconda3/envs/complex_network/lib/python3.9/site-packages (from cffi>=1.1.0->cairocffi) (2.20)\n",
      "Requirement already satisfied: six in /workplace/anaconda3/envs/complex_network/lib/python3.9/site-packages (from cycler>=0.10->matplotlib) (1.16.0)\n"
     ]
    }
   ],
   "source": [
    "# Install a pip package in the current Jupyter kernel\n",
    "! pip install numpy pandas python-igraph matplotlib pycairo cairocffi"
   ]
  },
  {
   "cell_type": "code",
   "execution_count": 4,
   "id": "55fc7b75",
   "metadata": {},
   "outputs": [
    {
     "name": "stdout",
     "output_type": "stream",
     "text": [
      "Index(['index', 'Domain Code', 'Domain', 'Reporter Country Code (FAO)',\n",
      "       'Reporter Countries', 'Partner Country Code (FAO)', 'Partner Countries',\n",
      "       'Element Code', 'Element', 'Item Code', 'Item', 'Year Code', 'Year',\n",
      "       'Unit', 'Value', 'Flag', 'Flag Description'],\n",
      "      dtype='object')\n",
      "   index Domain Code                Domain  Reporter Country Code (FAO)  \\\n",
      "0      0          FT  Forestry Trade Flows                            2   \n",
      "1      3          FT  Forestry Trade Flows                            2   \n",
      "2      4          FT  Forestry Trade Flows                            3   \n",
      "3      5          FT  Forestry Trade Flows                            3   \n",
      "4      6          FT  Forestry Trade Flows                            3   \n",
      "\n",
      "  Reporter Countries  Partner Country Code (FAO) Partner Countries  \\\n",
      "0        Afghanistan                          68            France   \n",
      "1        Afghanistan                         165          Pakistan   \n",
      "2            Albania                          11           Austria   \n",
      "3            Albania                          33            Canada   \n",
      "4            Albania                          68            France   \n",
      "\n",
      "   Element Code       Element  Item Code                          Item  \\\n",
      "0          5922  Export Value       1633  Sawnwood, non-coniferous all   \n",
      "1          5922  Export Value       1671                     Newsprint   \n",
      "2          5922  Export Value       1633  Sawnwood, non-coniferous all   \n",
      "3          5922  Export Value       1619      Wood chips and particles   \n",
      "4          5922  Export Value       1632          Sawnwood, coniferous   \n",
      "\n",
      "   Year Code  Year      Unit  Value  Flag Flag Description  \n",
      "0       2017  2017  1000 US$     37  NULL    Official data  \n",
      "1       2017  2017  1000 US$      2  NULL    Official data  \n",
      "2       2017  2017  1000 US$     29  NULL    Official data  \n",
      "3       2017  2017  1000 US$      0  NULL    Official data  \n",
      "4       2017  2017  1000 US$     13  NULL    Official data  \n",
      "(15402, 17)\n",
      "5047564\n",
      "4949057\n"
     ]
    }
   ],
   "source": [
    "import pandas as pd\n",
    "import igraph as ig\n",
    "from igraph import *\n",
    "import numpy as np\n",
    "\n",
    "path = '/workplace/CNA/Complex-Network-Analysis-Exercises/assignment-1/FAOSTAT_data_10-26-2021.csv'\n",
    "data = pd.read_csv(path)\n",
    "others_values=data[data['Partner Countries']== 'Others (adjustment)']\n",
    "FAO_values = data[data['Partner Countries']== 'Total FAO']\n",
    "Unspecified = data[data['Partner Countries']== 'Unspecified Area']\n",
    "data = data.drop(others_values.index, axis=0)\n",
    "data = data.drop(FAO_values.index, axis=0)\n",
    "data = data.drop(Unspecified.index, axis=0)\n",
    "df = data.fillna('NULL')\n",
    "NULL_values = df[df['Flag']!= 'NULL']\n",
    "df = df.drop(NULL_values.index, axis=0)\n",
    "df=df.reset_index()\n",
    "\n",
    "print(df.columns)\n",
    "print(df.head())\n",
    "\n",
    "#compare these features with the ones of the exersice session \n",
    "print(df.shape)\n",
    "print(df[df['Reporter Countries']=='United States of America'].Value.sum())\n",
    "print(df[df['Partner Countries']=='United States of America'].Value.sum())\n",
    "df_1 = df[['Reporter Countries', 'Partner Countries', 'Value']]\n",
    "\n"
   ]
  },
  {
   "cell_type": "code",
   "execution_count": 5,
   "id": "2daad042",
   "metadata": {},
   "outputs": [
    {
     "name": "stdout",
     "output_type": "stream",
     "text": [
      "IGRAPH DNW- 46 100 -- \n",
      "+ attr: name (v), weight (e)\n"
     ]
    }
   ],
   "source": [
    "def task1(df):    \n",
    "    g = ig.Graph.TupleList(df[[\"Reporter Countries\", \"Partner Countries\"]].itertuples(index=False), directed=True)\n",
    "    g.es['weight'] = list(abs(df['Value']))\n",
    "    print(g.summary())\n",
    "    \n",
    "    \n",
    "    #test by comparing with pd dataframe\n",
    "    for index in range(len(df)):\n",
    "        v1, v2 = g.get_edgelist()[index]\n",
    "        \n",
    "        assert (g.vs['name'][v1]==df[\"Reporter Countries\"][index]), \"Oh no! 'Reporter failed!\"\n",
    "        assert (g.vs['name'][v2]==df[\"Partner Countries\"][index]), \"Oh no! Partner failed!\"\n",
    "        assert (g.es['weight'][index]==df[\"Value\"][index]), \"Oh no! Value failed!\"\n",
    "    return g\n",
    "\n",
    "def plot_task(g, save_name, margin):\n",
    "    visual_style = {\"vertex_size\":15,\n",
    "                \"vertex_label\":g.vs()[\"name\"],\n",
    "                \"edge_width\": [(np.log(value+1)+1) for value in g.es()['weight']],\n",
    "                \"edge_label\":g.es()['weight'], \n",
    "                \"margin\": margin}\n",
    "    g.simplify(multiple=True, loops=True, combine_edges=dict(weight=\"sum\"))\n",
    "    \n",
    "    layout = g.layout(\"kk\")\n",
    "    plot(g, save_name, **visual_style, layout=layout)\n",
    "    \n",
    "\n",
    "g = task1(df_1.iloc[:100,:])\n",
    "plot_task(g, 'task1_first100.pdf', 20)"
   ]
  },
  {
   "cell_type": "code",
   "execution_count": 6,
   "id": "6fa1b78d",
   "metadata": {},
   "outputs": [],
   "source": [
    "def task2(g, search_name, df):  \n",
    "    vertex = g.vs.find(name=search_name)\n",
    "    print(\"Vertex index: \", vertex.index)\n",
    "\n",
    "    #print(g.es.select(_source=vertex.index)['weight'])\n",
    "    weights = g.es.select()()['weight']\n",
    "    \n",
    "    dtype = [('partner', float), ('weight', float)]\n",
    "    v2_array=np.zeros((1, len(g.es.select()['weight'])), dtype=dtype)\n",
    "    \n",
    "    #find the partners according to the vertex.index \n",
    "    i=0\n",
    "    for (v1,v2), weight in zip(g.get_edgelist(), np.asarray(weights)):\n",
    "        if v1==vertex.index: \n",
    "            v2_array[0,i]=(v2, weight)\n",
    "            i+=1\n",
    "    \n",
    "    #order the partners according to the weights and choose the 3 best ones\n",
    "    ordered_v2=np.sort(v2_array, axis=1, order='weight')\n",
    "    #print(ordered_v2)\n",
    "    #print(ordered_v2[0,-3:]['weight'])\n",
    "    \n",
    "    #find the corresponding partner names\n",
    "    seq = g.vs.select(ordered_v2[0,-3:]['partner'])\n",
    "    partners=[v['name'] for v in seq]\n",
    "\n",
    "    print(partners)\n",
    "    g_new = Graph()\n",
    "    g_new.add_vertices(4)\n",
    "    g_new.add_edges([(0,1), (0,2), (0,3)])\n",
    "    g_new.es['weight'] = list(ordered_v2[0,-3:]['weight'])\n",
    "    g_new.vs['name'] = [search_name, *partners]\n",
    "    \n",
    "\n",
    "    #control\n",
    "    sorted_df = df[df[\"Reporter Countries\"] == search_name]\n",
    "    sorted_df=sorted_df.sort_values(by=['Value'])\n",
    "    values=list(sorted_df[-3:][\"Value\"])\n",
    "    values=[float(i) for i in values]\n",
    "\n",
    "    #control\n",
    "    if (g_new.vs['name'][1:]==list(sorted_df[-3:][\"Partner Countries\"])):\n",
    "        print('Partners are right')\n",
    "    if (g_new.es['weight']==values):\n",
    "        print('Values are right')\n",
    "    return g_new"
   ]
  },
  {
   "cell_type": "code",
   "execution_count": 7,
   "id": "b72e5a75",
   "metadata": {},
   "outputs": [
    {
     "name": "stdout",
     "output_type": "stream",
     "text": [
      "IGRAPH DNW- 168 15402 -- \n",
      "+ attr: name (v), weight (e)\n",
      "Vertex index:  36\n",
      "['United States of America', 'Mexico', 'China']\n",
      "Partners are right\n",
      "Values are right\n"
     ]
    }
   ],
   "source": [
    "g = task1(df_1.iloc[:,:])\n",
    "g_new=task2(g, 'Uruguay', df_1)\n",
    "plot_task(g_new, 'task2.pdf', 100)"
   ]
  },
  {
   "cell_type": "code",
   "execution_count": 8,
   "id": "b3f58051",
   "metadata": {},
   "outputs": [],
   "source": [
    "def task3(g, search_name, df):  \n",
    "    vertex = g.vs.find(name=search_name)\n",
    "    print(\"Vertex index: \", vertex.index)\n",
    "\n",
    "    export_value=np.sum(g.es.select(_source=vertex.index)['weight'])\n",
    "    import_value=np.sum(g.es.select(_target=vertex.index)['weight'])\n",
    "    print('Yearly net export' , export_value)\n",
    "    print('Yearly net import', import_value)\n",
    "    \n",
    "    if export_value <= import_value:\n",
    "        print('This country is an net importer.')\n",
    "    else:\n",
    "        print('This country is an net exporter.')    \n",
    "    \n",
    "    \n",
    "    #control\n",
    "    df_exporter = df[df[\"Reporter Countries\"] == search_name]\n",
    "    df_importer = df[df[\"Partner Countries\"] == search_name]\n",
    "    \n",
    "    export_value_control=np.sum(df_exporter[\"Value\"])\n",
    "    import_value_control=np.sum(df_importer[\"Value\"])\n",
    "    #print(import_value_control)\n",
    "    #print(export_value_control)\n",
    "\n",
    "\n",
    "    #control\n",
    "    if (import_value_control==import_value):\n",
    "        print('Import value is right')\n",
    "    if (export_value_control==export_value):\n",
    "        print('Export value is right')\n",
    "    return g_new"
   ]
  },
  {
   "cell_type": "code",
   "execution_count": 9,
   "id": "5bee2220",
   "metadata": {},
   "outputs": [
    {
     "name": "stdout",
     "output_type": "stream",
     "text": [
      "IGRAPH DNW- 168 15402 -- \n",
      "+ attr: name (v), weight (e)\n",
      "Vertex index:  39\n",
      "Yearly net export 3593196\n",
      "Yearly net import 3785835\n",
      "This country is an net importer.\n",
      "Import value is right\n",
      "Export value is right\n"
     ]
    }
   ],
   "source": [
    "g = task1(df_1.iloc[:,:])\n",
    "g_new=task3(g, 'Germany', df_1)"
   ]
  }
 ],
 "metadata": {
  "interpreter": {
   "hash": "39a65aaadba0ba422a04f5baa6417f7728c6de8b7f23314dcd8400260ab2cc99"
  },
  "kernelspec": {
   "display_name": "Python 3.9.7 64-bit ('complex_network': conda)",
   "name": "python3"
  },
  "language_info": {
   "codemirror_mode": {
    "name": "ipython",
    "version": 3
   },
   "file_extension": ".py",
   "mimetype": "text/x-python",
   "name": "python",
   "nbconvert_exporter": "python",
   "pygments_lexer": "ipython3",
   "version": "3.9.7"
  }
 },
 "nbformat": 4,
 "nbformat_minor": 5
}
