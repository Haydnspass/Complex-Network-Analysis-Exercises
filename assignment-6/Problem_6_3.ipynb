{
 "cells": [
  {
   "cell_type": "code",
   "execution_count": 7,
   "id": "84ed8fe6-dd8b-4bd3-bbc5-3c3168262c87",
   "metadata": {},
   "outputs": [],
   "source": [
    "import numpy as np\n",
    "import networkx as nx"
   ]
  },
  {
   "cell_type": "code",
   "execution_count": 8,
   "id": "a0ddc176-c663-4baa-9254-126241abcdfd",
   "metadata": {},
   "outputs": [],
   "source": [
    "g = nx.from_numpy_array(\n",
    "    np.array(\n",
    "        [[0, 1, 0, 1], [1, 0, 1, 1], [0, 1, 0, 0], [1, 1, 0, 0]]\n",
    "    )\n",
    ")"
   ]
  },
  {
   "cell_type": "code",
   "execution_count": 9,
   "id": "3b8ddd39-da50-42b9-9907-ceef4ee9c7fa",
   "metadata": {},
   "outputs": [
    {
     "data": {
      "text/plain": [
       "-0.7142857142857144"
      ]
     },
     "execution_count": 9,
     "metadata": {},
     "output_type": "execute_result"
    }
   ],
   "source": [
    "nx.degree_pearson_correlation_coefficient(g)"
   ]
  },
  {
   "cell_type": "code",
   "execution_count": null,
   "id": "2696748f-f488-4f27-a0aa-010ceeeb8296",
   "metadata": {},
   "outputs": [],
   "source": []
  }
 ],
 "metadata": {
  "kernelspec": {
   "display_name": "Python [conda env:complex_network]",
   "language": "python",
   "name": "conda-env-complex_network-py"
  },
  "language_info": {
   "codemirror_mode": {
    "name": "ipython",
    "version": 3
   },
   "file_extension": ".py",
   "mimetype": "text/x-python",
   "name": "python",
   "nbconvert_exporter": "python",
   "pygments_lexer": "ipython3",
   "version": "3.9.7"
  }
 },
 "nbformat": 4,
 "nbformat_minor": 5
}
