{
  "nbformat": 4,
  "nbformat_minor": 0,
  "metadata": {
    "colab": {
      "name": "Problem_6-2.ipynb",
      "provenance": [],
      "collapsed_sections": []
    },
    "kernelspec": {
      "name": "python3",
      "display_name": "Python 3"
    },
    "language_info": {
      "name": "python"
    }
  },
  "cells": [
    {
      "cell_type": "markdown",
      "source": [
        "Names:  \n",
        "1) Klaus Kades (Uni-id: fw448 Matrikelnr.: 3408463)\n",
        "\n",
        "2) Lucas-Raphael Müller (Uni-id: al413 Matrikelnr.: 3205638)\n",
        "\n",
        "3) Melanie Schellenberg (Uni-id: qh400 Matrikelnr.: 3146390)\n",
        "\n",
        "4) Shuhan Xiao (Uni-id: kg410 Matrikelnr.: 3160697)"
      ],
      "metadata": {
        "id": "wtnX84hIlUcD"
      }
    },
    {
      "cell_type": "code",
      "execution_count": 60,
      "metadata": {
        "colab": {
          "base_uri": "https://localhost:8080/"
        },
        "id": "Z8mggYygk9yW",
        "outputId": "a0621546-9b0e-4293-cd4a-0f23314de196"
      },
      "outputs": [
        {
          "output_type": "stream",
          "name": "stdout",
          "text": [
            "Requirement already satisfied: python-igraph in /usr/local/lib/python3.7/dist-packages (0.9.8)\n",
            "Requirement already satisfied: igraph==0.9.8 in /usr/local/lib/python3.7/dist-packages (from python-igraph) (0.9.8)\n",
            "Requirement already satisfied: texttable>=1.6.2 in /usr/local/lib/python3.7/dist-packages (from igraph==0.9.8->python-igraph) (1.6.4)\n"
          ]
        }
      ],
      "source": [
        "import pandas as pd \n",
        "import networkx as nx \n",
        "import matplotlib as mpl \n",
        "import matplotlib.pyplot as plt \n",
        "import numpy as np\n",
        "!pip install python-igraph\n",
        "import igraph as ig\n",
        "from collections import Counter"
      ]
    },
    {
      "cell_type": "markdown",
      "source": [
        "# Assignment 6\n",
        "## Problem 6-2 Friendship Paradox Follow-up"
      ],
      "metadata": {
        "id": "Paprho1JlZEw"
      }
    },
    {
      "cell_type": "code",
      "source": [
        "!wget http://socialnetworks.mpi-sws.mpg.de/data/facebook-links.txt.gz --no-clobber\n",
        "!gzip -d *.gz\n",
        "!ls"
      ],
      "metadata": {
        "colab": {
          "base_uri": "https://localhost:8080/"
        },
        "id": "MVkaqLRplYXg",
        "outputId": "3f5c88f0-45b3-4465-a0d6-0c5a2735bf00"
      },
      "execution_count": null,
      "outputs": [
        {
          "output_type": "stream",
          "name": "stdout",
          "text": [
            "--2021-12-08 15:08:06--  http://socialnetworks.mpi-sws.mpg.de/data/facebook-links.txt.gz\n",
            "Resolving socialnetworks.mpi-sws.mpg.de (socialnetworks.mpi-sws.mpg.de)... 139.19.206.116\n",
            "Connecting to socialnetworks.mpi-sws.mpg.de (socialnetworks.mpi-sws.mpg.de)|139.19.206.116|:80... connected.\n",
            "HTTP request sent, awaiting response... 301 Moved Permanently\n",
            "Location: http://socialnetworks.mpi-sws.org/data/facebook-links.txt.gz [following]\n",
            "--2021-12-08 15:08:07--  http://socialnetworks.mpi-sws.org/data/facebook-links.txt.gz\n",
            "Resolving socialnetworks.mpi-sws.org (socialnetworks.mpi-sws.org)... 139.19.206.116\n",
            "Reusing existing connection to socialnetworks.mpi-sws.mpg.de:80.\n",
            "HTTP request sent, awaiting response... 200 OK\n",
            "Length: 10429299 (9.9M) [application/x-gzip]\n",
            "Saving to: ‘facebook-links.txt.gz’\n",
            "\n",
            "facebook-links.txt. 100%[===================>]   9.95M  9.31MB/s    in 1.1s    \n",
            "\n",
            "2021-12-08 15:08:08 (9.31 MB/s) - ‘facebook-links.txt.gz’ saved [10429299/10429299]\n",
            "\n",
            "facebook-links.txt  sample_data\n"
          ]
        }
      ]
    },
    {
      "cell_type": "markdown",
      "source": [
        "### clean data\n",
        "1. remove timestamp column"
      ],
      "metadata": {
        "id": "2tGZxK-FlqSG"
      }
    },
    {
      "cell_type": "code",
      "source": [
        "data = pd.read_csv('./facebook-links.txt', sep='\\t', index_col=None, names=['source','target','time-stamp'])\n",
        "\n",
        "display(data)\n",
        "\n",
        "# remove time-stamp column\n",
        "data = data.drop(columns=['time-stamp'])\n",
        "display(data.head())"
      ],
      "metadata": {
        "colab": {
          "base_uri": "https://localhost:8080/",
          "height": 613
        },
        "id": "3bopzMTylmSn",
        "outputId": "b01a8ba7-bd3c-40ec-f57d-3c436aef767c"
      },
      "execution_count": null,
      "outputs": [
        {
          "output_type": "display_data",
          "data": {
            "text/html": [
              "<div>\n",
              "<style scoped>\n",
              "    .dataframe tbody tr th:only-of-type {\n",
              "        vertical-align: middle;\n",
              "    }\n",
              "\n",
              "    .dataframe tbody tr th {\n",
              "        vertical-align: top;\n",
              "    }\n",
              "\n",
              "    .dataframe thead th {\n",
              "        text-align: right;\n",
              "    }\n",
              "</style>\n",
              "<table border=\"1\" class=\"dataframe\">\n",
              "  <thead>\n",
              "    <tr style=\"text-align: right;\">\n",
              "      <th></th>\n",
              "      <th>source</th>\n",
              "      <th>target</th>\n",
              "      <th>time-stamp</th>\n",
              "    </tr>\n",
              "  </thead>\n",
              "  <tbody>\n",
              "    <tr>\n",
              "      <th>0</th>\n",
              "      <td>1</td>\n",
              "      <td>2</td>\n",
              "      <td>\\N</td>\n",
              "    </tr>\n",
              "    <tr>\n",
              "      <th>1</th>\n",
              "      <td>1</td>\n",
              "      <td>3</td>\n",
              "      <td>\\N</td>\n",
              "    </tr>\n",
              "    <tr>\n",
              "      <th>2</th>\n",
              "      <td>1</td>\n",
              "      <td>4</td>\n",
              "      <td>\\N</td>\n",
              "    </tr>\n",
              "    <tr>\n",
              "      <th>3</th>\n",
              "      <td>1</td>\n",
              "      <td>5</td>\n",
              "      <td>\\N</td>\n",
              "    </tr>\n",
              "    <tr>\n",
              "      <th>4</th>\n",
              "      <td>1</td>\n",
              "      <td>6</td>\n",
              "      <td>\\N</td>\n",
              "    </tr>\n",
              "    <tr>\n",
              "      <th>...</th>\n",
              "      <td>...</td>\n",
              "      <td>...</td>\n",
              "      <td>...</td>\n",
              "    </tr>\n",
              "    <tr>\n",
              "      <th>1545681</th>\n",
              "      <td>21169</td>\n",
              "      <td>12888</td>\n",
              "      <td>1201988286</td>\n",
              "    </tr>\n",
              "    <tr>\n",
              "      <th>1545682</th>\n",
              "      <td>21169</td>\n",
              "      <td>18660</td>\n",
              "      <td>1214804215</td>\n",
              "    </tr>\n",
              "    <tr>\n",
              "      <th>1545683</th>\n",
              "      <td>48809</td>\n",
              "      <td>24065</td>\n",
              "      <td>1210066726</td>\n",
              "    </tr>\n",
              "    <tr>\n",
              "      <th>1545684</th>\n",
              "      <td>48809</td>\n",
              "      <td>29258</td>\n",
              "      <td>1206011811</td>\n",
              "    </tr>\n",
              "    <tr>\n",
              "      <th>1545685</th>\n",
              "      <td>55904</td>\n",
              "      <td>11088</td>\n",
              "      <td>\\N</td>\n",
              "    </tr>\n",
              "  </tbody>\n",
              "</table>\n",
              "<p>1545686 rows × 3 columns</p>\n",
              "</div>"
            ],
            "text/plain": [
              "         source  target  time-stamp\n",
              "0             1       2          \\N\n",
              "1             1       3          \\N\n",
              "2             1       4          \\N\n",
              "3             1       5          \\N\n",
              "4             1       6          \\N\n",
              "...         ...     ...         ...\n",
              "1545681   21169   12888  1201988286\n",
              "1545682   21169   18660  1214804215\n",
              "1545683   48809   24065  1210066726\n",
              "1545684   48809   29258  1206011811\n",
              "1545685   55904   11088          \\N\n",
              "\n",
              "[1545686 rows x 3 columns]"
            ]
          },
          "metadata": {}
        },
        {
          "output_type": "display_data",
          "data": {
            "text/html": [
              "<div>\n",
              "<style scoped>\n",
              "    .dataframe tbody tr th:only-of-type {\n",
              "        vertical-align: middle;\n",
              "    }\n",
              "\n",
              "    .dataframe tbody tr th {\n",
              "        vertical-align: top;\n",
              "    }\n",
              "\n",
              "    .dataframe thead th {\n",
              "        text-align: right;\n",
              "    }\n",
              "</style>\n",
              "<table border=\"1\" class=\"dataframe\">\n",
              "  <thead>\n",
              "    <tr style=\"text-align: right;\">\n",
              "      <th></th>\n",
              "      <th>source</th>\n",
              "      <th>target</th>\n",
              "    </tr>\n",
              "  </thead>\n",
              "  <tbody>\n",
              "    <tr>\n",
              "      <th>0</th>\n",
              "      <td>1</td>\n",
              "      <td>2</td>\n",
              "    </tr>\n",
              "    <tr>\n",
              "      <th>1</th>\n",
              "      <td>1</td>\n",
              "      <td>3</td>\n",
              "    </tr>\n",
              "    <tr>\n",
              "      <th>2</th>\n",
              "      <td>1</td>\n",
              "      <td>4</td>\n",
              "    </tr>\n",
              "    <tr>\n",
              "      <th>3</th>\n",
              "      <td>1</td>\n",
              "      <td>5</td>\n",
              "    </tr>\n",
              "    <tr>\n",
              "      <th>4</th>\n",
              "      <td>1</td>\n",
              "      <td>6</td>\n",
              "    </tr>\n",
              "  </tbody>\n",
              "</table>\n",
              "</div>"
            ],
            "text/plain": [
              "   source  target\n",
              "0       1       2\n",
              "1       1       3\n",
              "2       1       4\n",
              "3       1       5\n",
              "4       1       6"
            ]
          },
          "metadata": {}
        }
      ]
    },
    {
      "cell_type": "markdown",
      "source": [
        "2. turn into and undirected network"
      ],
      "metadata": {
        "id": "842Z2yxJl8at"
      }
    },
    {
      "cell_type": "code",
      "source": [
        "G = nx.from_pandas_edgelist(data, source='source',target='target')\n",
        "print(nx.info(G))\n",
        "# convert to undirected graph\n",
        "G = G.to_undirected()"
      ],
      "metadata": {
        "colab": {
          "base_uri": "https://localhost:8080/"
        },
        "id": "YdleD3Fal_Zu",
        "outputId": "709cade9-d1c2-4390-d2f2-a55e615075f1"
      },
      "execution_count": null,
      "outputs": [
        {
          "output_type": "stream",
          "name": "stdout",
          "text": [
            "Graph with 63731 nodes and 817090 edges\n"
          ]
        }
      ]
    },
    {
      "cell_type": "markdown",
      "source": [
        "3. remove multiple edges"
      ],
      "metadata": {
        "id": "fj9hqswkmSnB"
      }
    },
    {
      "cell_type": "code",
      "source": [
        "G = nx.Graph(G) # multigraph to graph\n",
        "print(nx.info(G))"
      ],
      "metadata": {
        "colab": {
          "base_uri": "https://localhost:8080/"
        },
        "id": "hXvwUGTDmR9H",
        "outputId": "bd0e21a5-9532-4c6c-8c7b-29ebc8196763"
      },
      "execution_count": null,
      "outputs": [
        {
          "output_type": "stream",
          "name": "stdout",
          "text": [
            "Graph with 63731 nodes and 817090 edges\n"
          ]
        }
      ]
    },
    {
      "cell_type": "markdown",
      "source": [
        "### 1. Compute the average number of friends and the average number of \"friends of friends\" (FOF)."
      ],
      "metadata": {
        "id": "ha0riHsxnLOR"
      }
    },
    {
      "cell_type": "code",
      "source": [
        "degrees = [val for (node, val) in G.degree()]\n",
        "print(f\"average #friends = {sum(degrees)/len(degrees)}\")"
      ],
      "metadata": {
        "id": "xYll_EdJnRjm",
        "colab": {
          "base_uri": "https://localhost:8080/"
        },
        "outputId": "bfa23f92-3003-49eb-f4af-88fbfe11a4c0"
      },
      "execution_count": null,
      "outputs": [
        {
          "output_type": "stream",
          "name": "stdout",
          "text": [
            "average #friends = 25.641838351822503\n"
          ]
        }
      ]
    },
    {
      "cell_type": "code",
      "source": [
        "ndegrees_dict = nx.average_neighbor_degree(G)\n",
        "ndegrees = list(ndegrees_dict.values())\n",
        "print(f\"average #friends-of-friends = {sum(ndegrees)/len(ndegrees)}\")  "
      ],
      "metadata": {
        "colab": {
          "base_uri": "https://localhost:8080/"
        },
        "id": "G2UPgLZ2n-nY",
        "outputId": "40b920ad-4e39-4218-d84e-05bea1579747"
      },
      "execution_count": null,
      "outputs": [
        {
          "output_type": "stream",
          "name": "stdout",
          "text": [
            "average #friends-of-friends = 58.36340280721295\n"
          ]
        }
      ]
    },
    {
      "cell_type": "code",
      "source": [
        "print(len(ndegrees))"
      ],
      "metadata": {
        "colab": {
          "base_uri": "https://localhost:8080/"
        },
        "id": "BXp8mCdpxbjY",
        "outputId": "48167ca7-65de-4495-d04b-4bb1272a925f"
      },
      "execution_count": null,
      "outputs": [
        {
          "output_type": "stream",
          "name": "stdout",
          "text": [
            "63731\n"
          ]
        }
      ]
    },
    {
      "cell_type": "code",
      "source": [
        "type(nx.average_neighbor_degree(G))"
      ],
      "metadata": {
        "colab": {
          "base_uri": "https://localhost:8080/"
        },
        "id": "0bL2cUNxr9fj",
        "outputId": "1b005789-f23c-4e7a-fef0-8819eb597f8c"
      },
      "execution_count": null,
      "outputs": [
        {
          "output_type": "execute_result",
          "data": {
            "text/plain": [
              "dict"
            ]
          },
          "metadata": {},
          "execution_count": 27
        }
      ]
    },
    {
      "cell_type": "markdown",
      "source": [
        "### 2. Create a plot showing the distribution of number of friends versus the number of FOF.\n",
        "\n"
      ],
      "metadata": {
        "id": "BnCsamlGs61M"
      }
    },
    {
      "cell_type": "code",
      "source": [
        "print(max(degrees), min(degrees))\n",
        "print(max(ndegrees), min(ndegrees))\n",
        "N = G.number_of_nodes()"
      ],
      "metadata": {
        "colab": {
          "base_uri": "https://localhost:8080/"
        },
        "id": "q9391bKMyeS_",
        "outputId": "a8f33cfc-967b-4f0e-b762-7b2274cd136a"
      },
      "execution_count": 63,
      "outputs": [
        {
          "output_type": "stream",
          "name": "stdout",
          "text": [
            "1098 1\n",
            "1098.0 1.0\n"
          ]
        }
      ]
    },
    {
      "cell_type": "code",
      "source": [
        "plt.figure(figsize=(12,4))\n",
        "plt.subplot(1,2,1)\n",
        "plt.hist(degrees, density=1, bins=np.logspace(np.log10(1),np.log10(1000), 10))\n",
        "plt.title(\"#Friends histogram\")\n",
        "plt.xlabel(\"#F\")\n",
        "plt.xscale('log')\n",
        "plt.yscale('log')\n",
        "plt.subplot(1,2,2)\n",
        "plt.hist(ndegrees, density=1, bins=np.logspace(np.log10(1),np.log10(1000), 10))\n",
        "plt.title(\"#FOF histogram\")\n",
        "plt.xlabel(\"#FOF\")\n",
        "plt.xscale('log')\n",
        "plt.yscale('log')\n"
      ],
      "metadata": {
        "colab": {
          "base_uri": "https://localhost:8080/",
          "height": 299
        },
        "id": "u3638pOUs4A5",
        "outputId": "de8ce0cf-bc81-4319-fe43-f1ffda35f583"
      },
      "execution_count": null,
      "outputs": [
        {
          "output_type": "display_data",
          "data": {
            "image/png": "[encoded data removed]",
            "text/plain": [
              "<Figure size 864x288 with 2 Axes>"
            ]
          },
          "metadata": {
            "needs_background": "light"
          }
        }
      ]
    },
    {
      "cell_type": "code",
      "source": [
        "bdegree_counts = Counter(degrees)                                                                                                 \n",
        "deg, counts = zip(*degree_counts.items())          \n",
        "\n",
        "plt.figure(figsize=(12,4))\n",
        "plt.subplot(1,2,1)\n",
        "plt.scatter(deg,[i/N for i in counts])\n",
        "plt.title(\"#Friends histogram\")\n",
        "plt.xlabel(\"#F\")\n",
        "plt.xscale('log')\n",
        "plt.yscale('log')\n",
        "\n",
        "ndegree_counts = Counter(ndegrees)                                                                                                 \n",
        "ndeg, ncounts = zip(*ndegree_counts.items())    \n",
        "\n",
        "plt.subplot(1,2,2)\n",
        "plt.scatter(ndeg,[i/N for i in ncounts])\n",
        "plt.title(\"#FOF histogram\")\n",
        "plt.xlabel(\"#FOF\")\n",
        "plt.xscale('log')\n",
        "plt.yscale('log')\n"
      ],
      "metadata": {
        "id": "__C7V9SdzAKP",
        "colab": {
          "base_uri": "https://localhost:8080/",
          "height": 299
        },
        "outputId": "fe196192-2674-4a2f-e806-7cffb806d44b"
      },
      "execution_count": 70,
      "outputs": [
        {
          "output_type": "display_data",
          "data": {
            "image/png": "[encoded data removed]",
            "text/plain": [
              "<Figure size 864x288 with 2 Axes>"
            ]
          },
          "metadata": {
            "needs_background": "light"
          }
        }
      ]
    },
    {
      "cell_type": "code",
      "source": [
        "hist, bin_edges = np.histogram(degrees, density=True, bins=np.logspace(np.log10(1),np.log10(max(degrees)), 15))\n",
        "bins_mean = [0.5 * (bin_edges[i] + bin_edges[i+1]) for i in range(len(bin_edges)-1)]                                                                                       \n",
        "     \n",
        "\n",
        "plt.figure(figsize=(12,4))\n",
        "plt.subplot(1,2,1)\n",
        "plt.scatter(bins_mean, hist)\n",
        "plt.title(\"#Friends distribution\")\n",
        "plt.xlabel(\"#F\")\n",
        "plt.xscale('log')\n",
        "plt.yscale('log')\n",
        "\n",
        "nhist, nbin_edges = np.histogram(ndegrees, density=True, bins=np.logspace(np.log10(1),np.log10(max(ndegrees)), 15))\n",
        "nbins_mean = [0.5 * (nbin_edges[i] + nbin_edges[i+1]) for i in range(len(nbin_edges)-1)]                                                                                       \n",
        "     \n",
        "\n",
        "plt.subplot(1,2,2)\n",
        "plt.scatter(nbins_mean, nhist)\n",
        "plt.title(\"#FOF distribution\")\n",
        "plt.xlabel(\"#FOF\")\n",
        "plt.xscale('log')\n",
        "plt.yscale('log')"
      ],
      "metadata": {
        "colab": {
          "base_uri": "https://localhost:8080/",
          "height": 299
        },
        "id": "BflDkTb3AI0V",
        "outputId": "e4f4fda7-3db8-48ec-faad-25b387707d45"
      },
      "execution_count": 93,
      "outputs": [
        {
          "output_type": "display_data",
          "data": {
            "image/png": "[encoded data removed]",
            "text/plain": [
              "<Figure size 864x288 with 2 Axes>"
            ]
          },
          "metadata": {
            "needs_background": "light"
          }
        }
      ]
    },
    {
      "cell_type": "markdown",
      "source": [
        "\n",
        "### 3. Barabási-Albert Model\n",
        "\n",
        "\n"
      ],
      "metadata": {
        "id": "N_H3o0hQFoIM"
      }
    },
    {
      "cell_type": "code",
      "source": [
        "n = 10000\n",
        "m = 7\n",
        "\n",
        "Gba = nx.barabasi_albert_graph(n=10000,m=7)"
      ],
      "metadata": {
        "id": "qzNnsYMeEpkd"
      },
      "execution_count": 94,
      "outputs": []
    },
    {
      "cell_type": "code",
      "source": [
        "degreesba = [val for (node, val) in Gba.degree()]\n",
        "print(f\"average #friends (BA model) = {sum(degreesba)/len(degreesba)}\")\n",
        "ndegrees_dictba = nx.average_neighbor_degree(Gba)\n",
        "ndegreesba = list(ndegrees_dictba.values())\n",
        "print(f\"average #friends-of-friends (BA model) = {sum(ndegreesba)/len(ndegreesba)}\")  "
      ],
      "metadata": {
        "colab": {
          "base_uri": "https://localhost:8080/"
        },
        "id": "YnI0pgVUG_KK",
        "outputId": "2ce384f0-c9b5-422a-d900-67c4bff58605"
      },
      "execution_count": 95,
      "outputs": [
        {
          "output_type": "stream",
          "name": "stdout",
          "text": [
            "average #friends = 13.9902\n",
            "average #friends-of-friends = 37.40788790769481\n"
          ]
        }
      ]
    },
    {
      "cell_type": "code",
      "source": [
        "degree_counts = Counter(degreesba)                                                                                                 \n",
        "deg, counts = zip(*degree_counts.items())          \n",
        "\n",
        "plt.figure(figsize=(12,4))\n",
        "plt.subplot(1,2,1)\n",
        "plt.scatter(deg,[i/n for i in counts])\n",
        "plt.title(\"#Friends histogram (BA model)\")\n",
        "plt.xlabel(\"#F\")\n",
        "plt.xscale('log')\n",
        "plt.yscale('log')\n",
        "\n",
        "ndegree_counts = Counter(ndegreesba)                                                                                                 \n",
        "ndeg, ncounts = zip(*ndegree_counts.items())    \n",
        "\n",
        "plt.subplot(1,2,2)\n",
        "plt.scatter(ndeg,[i/n for i in ncounts])\n",
        "plt.title(\"#FOF histogram (BA model)\")\n",
        "plt.xlabel(\"#FOF\")\n",
        "plt.xscale('log')\n",
        "plt.yscale('log')\n"
      ],
      "metadata": {
        "colab": {
          "base_uri": "https://localhost:8080/",
          "height": 299
        },
        "id": "joPe8viZHTpC",
        "outputId": "b4c35091-d5b1-4dfd-8dc0-ae77407d1976"
      },
      "execution_count": 101,
      "outputs": [
        {
          "output_type": "display_data",
          "data": {
            "image/png": "[encoded data removed]",
            "text/plain": [
              "<Figure size 864x288 with 2 Axes>"
            ]
          },
          "metadata": {
            "needs_background": "light"
          }
        }
      ]
    },
    {
      "cell_type": "code",
      "source": [
        "hist, bin_edges = np.histogram(degreesba, density=True, bins=np.logspace(np.log10(min(degreesba)),np.log10(max(degreesba)), 15))\n",
        "bins_mean = [0.5 * (bin_edges[i] + bin_edges[i+1]) for i in range(len(bin_edges)-1)]                                                                                       \n",
        "     \n",
        "\n",
        "plt.figure(figsize=(12,4))\n",
        "plt.subplot(1,2,1)\n",
        "plt.scatter(bins_mean, hist)\n",
        "plt.title(\"#Friends distribution\")\n",
        "plt.xlabel(\"#F\")\n",
        "plt.xscale('log')\n",
        "plt.yscale('log')\n",
        "\n",
        "nhist, nbin_edges = np.histogram(ndegreesba, density=True, bins=np.logspace(np.log10(min(ndegreesba)),np.log10(max(ndegreesba)), 15))\n",
        "nbins_mean = [0.5 * (nbin_edges[i] + nbin_edges[i+1]) for i in range(len(nbin_edges)-1)]                                                                                       \n",
        "     \n",
        "\n",
        "plt.subplot(1,2,2)\n",
        "plt.scatter(nbins_mean, nhist)\n",
        "plt.title(\"#FOF distribution\")\n",
        "plt.xlabel(\"#FOF\")\n",
        "plt.xscale('log')\n",
        "plt.yscale('log')"
      ],
      "metadata": {
        "colab": {
          "base_uri": "https://localhost:8080/",
          "height": 299
        },
        "id": "79N8vVDAHyMC",
        "outputId": "6ef399ca-5cf0-4582-b176-d15df1de009d"
      },
      "execution_count": 109,
      "outputs": [
        {
          "output_type": "display_data",
          "data": {
            "image/png": "[encoded data removed]",
            "text/plain": [
              "<Figure size 864x288 with 2 Axes>"
            ]
          },
          "metadata": {
            "needs_background": "light"
          }
        }
      ]
    }
  ]
}